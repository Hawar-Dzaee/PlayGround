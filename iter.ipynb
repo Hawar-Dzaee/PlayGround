{
 "cells": [
  {
   "cell_type": "code",
   "execution_count": 1,
   "metadata": {},
   "outputs": [],
   "source": [
    "import torch \n",
    "from torch import nn"
   ]
  },
  {
   "cell_type": "code",
   "execution_count": 38,
   "metadata": {},
   "outputs": [
    {
     "data": {
      "text/plain": [
       "Parameter containing:\n",
       "tensor([[-0.3022]], requires_grad=True)"
      ]
     },
     "execution_count": 38,
     "metadata": {},
     "output_type": "execute_result"
    }
   ],
   "source": [
    "torch.manual_seed(0)\n",
    "X = torch.randint(1,11,(10,1)).float()\n",
    "y = X * 2\n",
    "\n",
    "model = nn.Sequential(nn.Linear(1,1,bias=False))\n",
    "loss_fn = nn.MSELoss()\n",
    "optimizer = torch.optim.SGD(model.parameters(),lr=0.001)\n",
    "model[0].weight"
   ]
  },
  {
   "cell_type": "code",
   "execution_count": 95,
   "metadata": {},
   "outputs": [
    {
     "name": "stdout",
     "output_type": "stream",
     "text": [
      "tensor([[ 9.9133],\n",
      "        [19.8267],\n",
      "        [ 7.9307],\n",
      "        [ 1.9827],\n",
      "        [ 7.9307],\n",
      "        [19.8267],\n",
      "        [15.8613],\n",
      "        [ 7.9307],\n",
      "        [15.8613],\n",
      "        [ 7.9307]], grad_fn=<MmBackward0>)\n",
      "tensor(0.0126, grad_fn=<MseLossBackward0>)\n"
     ]
    }
   ],
   "source": [
    "y_hat = model(X)\n",
    "print(y_hat)\n",
    "\n",
    "loss = loss_fn(y_hat,y)\n",
    "print(loss)\n",
    "\n",
    "loss.backward()\n",
    "\n",
    "optimizer.step()\n",
    "optimizer.zero_grad()"
   ]
  }
 ],
 "metadata": {
  "kernelspec": {
   "display_name": "sparta",
   "language": "python",
   "name": "python3"
  },
  "language_info": {
   "codemirror_mode": {
    "name": "ipython",
    "version": 3
   },
   "file_extension": ".py",
   "mimetype": "text/x-python",
   "name": "python",
   "nbconvert_exporter": "python",
   "pygments_lexer": "ipython3",
   "version": "3.10.11"
  }
 },
 "nbformat": 4,
 "nbformat_minor": 2
}
