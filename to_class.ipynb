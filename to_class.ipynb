{
 "cells": [
  {
   "cell_type": "code",
   "execution_count": 3,
   "metadata": {},
   "outputs": [],
   "source": [
    "import numpy as np \n",
    "import matplotlib.pyplot as plt \n",
    "import plotly.graph_objects as go \n",
    "\n",
    "import torch \n",
    "from torch import nn\n",
    "from sklearn import datasets\n",
    "from sklearn.preprocessing import StandardScaler\n",
    "from sklearn.linear_model import LinearRegression\n",
    "\n",
    "from typing import Optional,Callable"
   ]
  },
  {
   "cell_type": "code",
   "execution_count": 4,
   "metadata": {},
   "outputs": [],
   "source": [
    "class Data:\n",
    "\n",
    "  def __init__(self,X1:torch.Tensor,y :torch.Tensor,X2:Optional[torch.Tensor]= None,n_samples = 30):\n",
    "    \n",
    "    \n",
    "    self.X1 = torch.tensor(X1).flatten()\n",
    "    self.y  = torch.tensor(y).flatten()\n",
    "    self.X2 = self.X2 = torch.tensor(X2) if X2 is not None else None\n",
    "    self.n_samples = n_samples\n",
    "\n",
    "\n",
    "\n",
    "#----------------------------------------------------------------------------------------------------------------PLOT DATA\n",
    "  def plot_data(self):\n",
    "#---------------------------ONE FEATURES--------------------\n",
    "    if (self.X2 is None):\n",
    "      plot = go.Scatter(\n",
    "        x = self.X1,\n",
    "        y = self.y,\n",
    "        mode = 'markers',\n",
    "      )\n",
    "\n",
    "      layout = go.Layout(\n",
    "              title='Single Feature Regression Plot',\n",
    "              xaxis=dict(title='X1'),\n",
    "              yaxis=dict(title='Y'),\n",
    "              hovermode='closest')\n",
    "\n",
    "  #-----------TWO FEATURES--------\n",
    "    if (self.X2 is not None):\n",
    "      plot = go.Scatter3d(\n",
    "        x = self.X1,\n",
    "        y = self.X2,\n",
    "        z = self.y,\n",
    "        mode = 'markers'\n",
    "      )\n",
    "\n",
    "      layout = go.Layout(\n",
    "              title='Two Features Regression Plot',\n",
    "              scene=dict(\n",
    "                  xaxis_title='X1',\n",
    "                  yaxis_title='X2',\n",
    "                  zaxis_title='Y'\n",
    "              ),\n",
    "              hovermode='closest')\n",
    "\n",
    "    figure = go.Figure(data=[plot],layout=layout)\n",
    "    return figure.show()\n",
    "  \n",
    "\n",
    "#----------------------------------------------------------------------------------------------------------------PLOT LOSS LANDSCAPE\n",
    "  def landscape(self,\n",
    "                bias = False,\n",
    "                cost_fn = nn.MSELoss(),\n",
    "                secret_w1 = 5,\n",
    "                span = 10):\n",
    "\n",
    "    secret_w1 = torch.tensor(secret_w1,dtype=torch.long)\n",
    "    #-------------------------------------ONE FEATURES-----------------------------------\n",
    "    if (self.X2 is None) and (bias is False):\n",
    "      w1_range = torch.linspace(secret_w1-10,secret_w1+10,self.n_samples)\n",
    "      landscape = go.Scatter(\n",
    "        x = w1_range,\n",
    "        y = [cost_fn((self.X1*w),self.y).item() for w in w1_range],\n",
    "        mode = 'lines'\n",
    "      )\n",
    "    \n",
    "    #-------------------------------------TWO FEATURES-----------------------------------\n",
    "    if (self.X2 is not None) and (bias is False):\n",
    "  \n",
    "      w1_m,w2_m = torch.meshgrid(torch.linspace(-span,span,self.n_samples ),torch.linspace(-span,span,self.n_samples ),indexing='ij')\n",
    "      w1_f,w2_f = w1_m.flatten() , w2_m.flatten()\n",
    "\n",
    "      COST = []\n",
    "      for w1,w2 in zip(w1_f,w2_f):\n",
    "        pred = (w1*self.X1) + (w2*self.X2)\n",
    "        cost = cost_fn(pred,self.y)\n",
    "        COST.append(cost.item())\n",
    "      COST = torch.tensor(COST).view(self.n_samples ,self.n_samples )\n",
    "\n",
    "      landscape = go.Surface(\n",
    "        x = w1_m,\n",
    "        y = w2_m,\n",
    "        z = COST,\n",
    "      )\n",
    "\n",
    "    # -------------------------------------ONE FEATURE AND BIAS-----------------------------------\n",
    "    if (self.X2 is  None) and (bias is True):\n",
    "\n",
    "\n",
    "      w1_m,b_m = torch.meshgrid(torch.linspace(-span,span,self.n_samples ),torch.linspace(-span,span,self.n_samples ),indexing='ij')\n",
    "      w1_f,b_f = w1_m.flatten() , b_m.flatten()\n",
    "\n",
    "      COST = []\n",
    "      for w1,b in zip(w1_f,b_f):\n",
    "        pred = (w1*self.X1) + b\n",
    "        cost = cost_fn(pred,self.y)\n",
    "        COST.append(cost.item())\n",
    "      COST = torch.tensor(COST).view(self.n_samples ,self.n_samples )\n",
    "\n",
    "      landscape = go.Surface(\n",
    "        x = w1_m,\n",
    "        y = b_m,\n",
    "        z = COST\n",
    "      )\n",
    "\n",
    "\n",
    "    figure = go.Figure(data=[landscape])\n",
    "    return figure.show()"
   ]
  },
  {
   "cell_type": "code",
   "execution_count": 13,
   "metadata": {},
   "outputs": [
    {
     "name": "stdout",
     "output_type": "stream",
     "text": [
      "(20, 2)\n",
      "(20,)\n",
      "[74.11815238  2.55841073]\n",
      "2.5584107269806755\n"
     ]
    }
   ],
   "source": [
    "X,y,coef = datasets.make_regression(n_features=2,n_samples=20,coef=True,noise=2,bias=20)\n",
    "\n",
    "\n",
    "# stand_scale = StandardScaler()\n",
    "# X = stand_scale.fit_transform(X)\n",
    "# y = stand_scale.fit_transform(y.reshape(-1,1))\n",
    "\n",
    "print(X.shape)\n",
    "print(y.shape)\n",
    "print(coef)\n",
    "print(coef[1])\n"
   ]
  },
  {
   "cell_type": "code",
   "execution_count": 6,
   "metadata": {},
   "outputs": [
    {
     "data": {
      "text/html": [
       "<style>#sk-container-id-1 {\n",
       "  /* Definition of color scheme common for light and dark mode */\n",
       "  --sklearn-color-text: black;\n",
       "  --sklearn-color-line: gray;\n",
       "  /* Definition of color scheme for unfitted estimators */\n",
       "  --sklearn-color-unfitted-level-0: #fff5e6;\n",
       "  --sklearn-color-unfitted-level-1: #f6e4d2;\n",
       "  --sklearn-color-unfitted-level-2: #ffe0b3;\n",
       "  --sklearn-color-unfitted-level-3: chocolate;\n",
       "  /* Definition of color scheme for fitted estimators */\n",
       "  --sklearn-color-fitted-level-0: #f0f8ff;\n",
       "  --sklearn-color-fitted-level-1: #d4ebff;\n",
       "  --sklearn-color-fitted-level-2: #b3dbfd;\n",
       "  --sklearn-color-fitted-level-3: cornflowerblue;\n",
       "\n",
       "  /* Specific color for light theme */\n",
       "  --sklearn-color-text-on-default-background: var(--sg-text-color, var(--theme-code-foreground, var(--jp-content-font-color1, black)));\n",
       "  --sklearn-color-background: var(--sg-background-color, var(--theme-background, var(--jp-layout-color0, white)));\n",
       "  --sklearn-color-border-box: var(--sg-text-color, var(--theme-code-foreground, var(--jp-content-font-color1, black)));\n",
       "  --sklearn-color-icon: #696969;\n",
       "\n",
       "  @media (prefers-color-scheme: dark) {\n",
       "    /* Redefinition of color scheme for dark theme */\n",
       "    --sklearn-color-text-on-default-background: var(--sg-text-color, var(--theme-code-foreground, var(--jp-content-font-color1, white)));\n",
       "    --sklearn-color-background: var(--sg-background-color, var(--theme-background, var(--jp-layout-color0, #111)));\n",
       "    --sklearn-color-border-box: var(--sg-text-color, var(--theme-code-foreground, var(--jp-content-font-color1, white)));\n",
       "    --sklearn-color-icon: #878787;\n",
       "  }\n",
       "}\n",
       "\n",
       "#sk-container-id-1 {\n",
       "  color: var(--sklearn-color-text);\n",
       "}\n",
       "\n",
       "#sk-container-id-1 pre {\n",
       "  padding: 0;\n",
       "}\n",
       "\n",
       "#sk-container-id-1 input.sk-hidden--visually {\n",
       "  border: 0;\n",
       "  clip: rect(1px 1px 1px 1px);\n",
       "  clip: rect(1px, 1px, 1px, 1px);\n",
       "  height: 1px;\n",
       "  margin: -1px;\n",
       "  overflow: hidden;\n",
       "  padding: 0;\n",
       "  position: absolute;\n",
       "  width: 1px;\n",
       "}\n",
       "\n",
       "#sk-container-id-1 div.sk-dashed-wrapped {\n",
       "  border: 1px dashed var(--sklearn-color-line);\n",
       "  margin: 0 0.4em 0.5em 0.4em;\n",
       "  box-sizing: border-box;\n",
       "  padding-bottom: 0.4em;\n",
       "  background-color: var(--sklearn-color-background);\n",
       "}\n",
       "\n",
       "#sk-container-id-1 div.sk-container {\n",
       "  /* jupyter's `normalize.less` sets `[hidden] { display: none; }`\n",
       "     but bootstrap.min.css set `[hidden] { display: none !important; }`\n",
       "     so we also need the `!important` here to be able to override the\n",
       "     default hidden behavior on the sphinx rendered scikit-learn.org.\n",
       "     See: https://github.com/scikit-learn/scikit-learn/issues/21755 */\n",
       "  display: inline-block !important;\n",
       "  position: relative;\n",
       "}\n",
       "\n",
       "#sk-container-id-1 div.sk-text-repr-fallback {\n",
       "  display: none;\n",
       "}\n",
       "\n",
       "div.sk-parallel-item,\n",
       "div.sk-serial,\n",
       "div.sk-item {\n",
       "  /* draw centered vertical line to link estimators */\n",
       "  background-image: linear-gradient(var(--sklearn-color-text-on-default-background), var(--sklearn-color-text-on-default-background));\n",
       "  background-size: 2px 100%;\n",
       "  background-repeat: no-repeat;\n",
       "  background-position: center center;\n",
       "}\n",
       "\n",
       "/* Parallel-specific style estimator block */\n",
       "\n",
       "#sk-container-id-1 div.sk-parallel-item::after {\n",
       "  content: \"\";\n",
       "  width: 100%;\n",
       "  border-bottom: 2px solid var(--sklearn-color-text-on-default-background);\n",
       "  flex-grow: 1;\n",
       "}\n",
       "\n",
       "#sk-container-id-1 div.sk-parallel {\n",
       "  display: flex;\n",
       "  align-items: stretch;\n",
       "  justify-content: center;\n",
       "  background-color: var(--sklearn-color-background);\n",
       "  position: relative;\n",
       "}\n",
       "\n",
       "#sk-container-id-1 div.sk-parallel-item {\n",
       "  display: flex;\n",
       "  flex-direction: column;\n",
       "}\n",
       "\n",
       "#sk-container-id-1 div.sk-parallel-item:first-child::after {\n",
       "  align-self: flex-end;\n",
       "  width: 50%;\n",
       "}\n",
       "\n",
       "#sk-container-id-1 div.sk-parallel-item:last-child::after {\n",
       "  align-self: flex-start;\n",
       "  width: 50%;\n",
       "}\n",
       "\n",
       "#sk-container-id-1 div.sk-parallel-item:only-child::after {\n",
       "  width: 0;\n",
       "}\n",
       "\n",
       "/* Serial-specific style estimator block */\n",
       "\n",
       "#sk-container-id-1 div.sk-serial {\n",
       "  display: flex;\n",
       "  flex-direction: column;\n",
       "  align-items: center;\n",
       "  background-color: var(--sklearn-color-background);\n",
       "  padding-right: 1em;\n",
       "  padding-left: 1em;\n",
       "}\n",
       "\n",
       "\n",
       "/* Toggleable style: style used for estimator/Pipeline/ColumnTransformer box that is\n",
       "clickable and can be expanded/collapsed.\n",
       "- Pipeline and ColumnTransformer use this feature and define the default style\n",
       "- Estimators will overwrite some part of the style using the `sk-estimator` class\n",
       "*/\n",
       "\n",
       "/* Pipeline and ColumnTransformer style (default) */\n",
       "\n",
       "#sk-container-id-1 div.sk-toggleable {\n",
       "  /* Default theme specific background. It is overwritten whether we have a\n",
       "  specific estimator or a Pipeline/ColumnTransformer */\n",
       "  background-color: var(--sklearn-color-background);\n",
       "}\n",
       "\n",
       "/* Toggleable label */\n",
       "#sk-container-id-1 label.sk-toggleable__label {\n",
       "  cursor: pointer;\n",
       "  display: block;\n",
       "  width: 100%;\n",
       "  margin-bottom: 0;\n",
       "  padding: 0.5em;\n",
       "  box-sizing: border-box;\n",
       "  text-align: center;\n",
       "}\n",
       "\n",
       "#sk-container-id-1 label.sk-toggleable__label-arrow:before {\n",
       "  /* Arrow on the left of the label */\n",
       "  content: \"▸\";\n",
       "  float: left;\n",
       "  margin-right: 0.25em;\n",
       "  color: var(--sklearn-color-icon);\n",
       "}\n",
       "\n",
       "#sk-container-id-1 label.sk-toggleable__label-arrow:hover:before {\n",
       "  color: var(--sklearn-color-text);\n",
       "}\n",
       "\n",
       "/* Toggleable content - dropdown */\n",
       "\n",
       "#sk-container-id-1 div.sk-toggleable__content {\n",
       "  max-height: 0;\n",
       "  max-width: 0;\n",
       "  overflow: hidden;\n",
       "  text-align: left;\n",
       "  /* unfitted */\n",
       "  background-color: var(--sklearn-color-unfitted-level-0);\n",
       "}\n",
       "\n",
       "#sk-container-id-1 div.sk-toggleable__content.fitted {\n",
       "  /* fitted */\n",
       "  background-color: var(--sklearn-color-fitted-level-0);\n",
       "}\n",
       "\n",
       "#sk-container-id-1 div.sk-toggleable__content pre {\n",
       "  margin: 0.2em;\n",
       "  border-radius: 0.25em;\n",
       "  color: var(--sklearn-color-text);\n",
       "  /* unfitted */\n",
       "  background-color: var(--sklearn-color-unfitted-level-0);\n",
       "}\n",
       "\n",
       "#sk-container-id-1 div.sk-toggleable__content.fitted pre {\n",
       "  /* unfitted */\n",
       "  background-color: var(--sklearn-color-fitted-level-0);\n",
       "}\n",
       "\n",
       "#sk-container-id-1 input.sk-toggleable__control:checked~div.sk-toggleable__content {\n",
       "  /* Expand drop-down */\n",
       "  max-height: 200px;\n",
       "  max-width: 100%;\n",
       "  overflow: auto;\n",
       "}\n",
       "\n",
       "#sk-container-id-1 input.sk-toggleable__control:checked~label.sk-toggleable__label-arrow:before {\n",
       "  content: \"▾\";\n",
       "}\n",
       "\n",
       "/* Pipeline/ColumnTransformer-specific style */\n",
       "\n",
       "#sk-container-id-1 div.sk-label input.sk-toggleable__control:checked~label.sk-toggleable__label {\n",
       "  color: var(--sklearn-color-text);\n",
       "  background-color: var(--sklearn-color-unfitted-level-2);\n",
       "}\n",
       "\n",
       "#sk-container-id-1 div.sk-label.fitted input.sk-toggleable__control:checked~label.sk-toggleable__label {\n",
       "  background-color: var(--sklearn-color-fitted-level-2);\n",
       "}\n",
       "\n",
       "/* Estimator-specific style */\n",
       "\n",
       "/* Colorize estimator box */\n",
       "#sk-container-id-1 div.sk-estimator input.sk-toggleable__control:checked~label.sk-toggleable__label {\n",
       "  /* unfitted */\n",
       "  background-color: var(--sklearn-color-unfitted-level-2);\n",
       "}\n",
       "\n",
       "#sk-container-id-1 div.sk-estimator.fitted input.sk-toggleable__control:checked~label.sk-toggleable__label {\n",
       "  /* fitted */\n",
       "  background-color: var(--sklearn-color-fitted-level-2);\n",
       "}\n",
       "\n",
       "#sk-container-id-1 div.sk-label label.sk-toggleable__label,\n",
       "#sk-container-id-1 div.sk-label label {\n",
       "  /* The background is the default theme color */\n",
       "  color: var(--sklearn-color-text-on-default-background);\n",
       "}\n",
       "\n",
       "/* On hover, darken the color of the background */\n",
       "#sk-container-id-1 div.sk-label:hover label.sk-toggleable__label {\n",
       "  color: var(--sklearn-color-text);\n",
       "  background-color: var(--sklearn-color-unfitted-level-2);\n",
       "}\n",
       "\n",
       "/* Label box, darken color on hover, fitted */\n",
       "#sk-container-id-1 div.sk-label.fitted:hover label.sk-toggleable__label.fitted {\n",
       "  color: var(--sklearn-color-text);\n",
       "  background-color: var(--sklearn-color-fitted-level-2);\n",
       "}\n",
       "\n",
       "/* Estimator label */\n",
       "\n",
       "#sk-container-id-1 div.sk-label label {\n",
       "  font-family: monospace;\n",
       "  font-weight: bold;\n",
       "  display: inline-block;\n",
       "  line-height: 1.2em;\n",
       "}\n",
       "\n",
       "#sk-container-id-1 div.sk-label-container {\n",
       "  text-align: center;\n",
       "}\n",
       "\n",
       "/* Estimator-specific */\n",
       "#sk-container-id-1 div.sk-estimator {\n",
       "  font-family: monospace;\n",
       "  border: 1px dotted var(--sklearn-color-border-box);\n",
       "  border-radius: 0.25em;\n",
       "  box-sizing: border-box;\n",
       "  margin-bottom: 0.5em;\n",
       "  /* unfitted */\n",
       "  background-color: var(--sklearn-color-unfitted-level-0);\n",
       "}\n",
       "\n",
       "#sk-container-id-1 div.sk-estimator.fitted {\n",
       "  /* fitted */\n",
       "  background-color: var(--sklearn-color-fitted-level-0);\n",
       "}\n",
       "\n",
       "/* on hover */\n",
       "#sk-container-id-1 div.sk-estimator:hover {\n",
       "  /* unfitted */\n",
       "  background-color: var(--sklearn-color-unfitted-level-2);\n",
       "}\n",
       "\n",
       "#sk-container-id-1 div.sk-estimator.fitted:hover {\n",
       "  /* fitted */\n",
       "  background-color: var(--sklearn-color-fitted-level-2);\n",
       "}\n",
       "\n",
       "/* Specification for estimator info (e.g. \"i\" and \"?\") */\n",
       "\n",
       "/* Common style for \"i\" and \"?\" */\n",
       "\n",
       ".sk-estimator-doc-link,\n",
       "a:link.sk-estimator-doc-link,\n",
       "a:visited.sk-estimator-doc-link {\n",
       "  float: right;\n",
       "  font-size: smaller;\n",
       "  line-height: 1em;\n",
       "  font-family: monospace;\n",
       "  background-color: var(--sklearn-color-background);\n",
       "  border-radius: 1em;\n",
       "  height: 1em;\n",
       "  width: 1em;\n",
       "  text-decoration: none !important;\n",
       "  margin-left: 1ex;\n",
       "  /* unfitted */\n",
       "  border: var(--sklearn-color-unfitted-level-1) 1pt solid;\n",
       "  color: var(--sklearn-color-unfitted-level-1);\n",
       "}\n",
       "\n",
       ".sk-estimator-doc-link.fitted,\n",
       "a:link.sk-estimator-doc-link.fitted,\n",
       "a:visited.sk-estimator-doc-link.fitted {\n",
       "  /* fitted */\n",
       "  border: var(--sklearn-color-fitted-level-1) 1pt solid;\n",
       "  color: var(--sklearn-color-fitted-level-1);\n",
       "}\n",
       "\n",
       "/* On hover */\n",
       "div.sk-estimator:hover .sk-estimator-doc-link:hover,\n",
       ".sk-estimator-doc-link:hover,\n",
       "div.sk-label-container:hover .sk-estimator-doc-link:hover,\n",
       ".sk-estimator-doc-link:hover {\n",
       "  /* unfitted */\n",
       "  background-color: var(--sklearn-color-unfitted-level-3);\n",
       "  color: var(--sklearn-color-background);\n",
       "  text-decoration: none;\n",
       "}\n",
       "\n",
       "div.sk-estimator.fitted:hover .sk-estimator-doc-link.fitted:hover,\n",
       ".sk-estimator-doc-link.fitted:hover,\n",
       "div.sk-label-container:hover .sk-estimator-doc-link.fitted:hover,\n",
       ".sk-estimator-doc-link.fitted:hover {\n",
       "  /* fitted */\n",
       "  background-color: var(--sklearn-color-fitted-level-3);\n",
       "  color: var(--sklearn-color-background);\n",
       "  text-decoration: none;\n",
       "}\n",
       "\n",
       "/* Span, style for the box shown on hovering the info icon */\n",
       ".sk-estimator-doc-link span {\n",
       "  display: none;\n",
       "  z-index: 9999;\n",
       "  position: relative;\n",
       "  font-weight: normal;\n",
       "  right: .2ex;\n",
       "  padding: .5ex;\n",
       "  margin: .5ex;\n",
       "  width: min-content;\n",
       "  min-width: 20ex;\n",
       "  max-width: 50ex;\n",
       "  color: var(--sklearn-color-text);\n",
       "  box-shadow: 2pt 2pt 4pt #999;\n",
       "  /* unfitted */\n",
       "  background: var(--sklearn-color-unfitted-level-0);\n",
       "  border: .5pt solid var(--sklearn-color-unfitted-level-3);\n",
       "}\n",
       "\n",
       ".sk-estimator-doc-link.fitted span {\n",
       "  /* fitted */\n",
       "  background: var(--sklearn-color-fitted-level-0);\n",
       "  border: var(--sklearn-color-fitted-level-3);\n",
       "}\n",
       "\n",
       ".sk-estimator-doc-link:hover span {\n",
       "  display: block;\n",
       "}\n",
       "\n",
       "/* \"?\"-specific style due to the `<a>` HTML tag */\n",
       "\n",
       "#sk-container-id-1 a.estimator_doc_link {\n",
       "  float: right;\n",
       "  font-size: 1rem;\n",
       "  line-height: 1em;\n",
       "  font-family: monospace;\n",
       "  background-color: var(--sklearn-color-background);\n",
       "  border-radius: 1rem;\n",
       "  height: 1rem;\n",
       "  width: 1rem;\n",
       "  text-decoration: none;\n",
       "  /* unfitted */\n",
       "  color: var(--sklearn-color-unfitted-level-1);\n",
       "  border: var(--sklearn-color-unfitted-level-1) 1pt solid;\n",
       "}\n",
       "\n",
       "#sk-container-id-1 a.estimator_doc_link.fitted {\n",
       "  /* fitted */\n",
       "  border: var(--sklearn-color-fitted-level-1) 1pt solid;\n",
       "  color: var(--sklearn-color-fitted-level-1);\n",
       "}\n",
       "\n",
       "/* On hover */\n",
       "#sk-container-id-1 a.estimator_doc_link:hover {\n",
       "  /* unfitted */\n",
       "  background-color: var(--sklearn-color-unfitted-level-3);\n",
       "  color: var(--sklearn-color-background);\n",
       "  text-decoration: none;\n",
       "}\n",
       "\n",
       "#sk-container-id-1 a.estimator_doc_link.fitted:hover {\n",
       "  /* fitted */\n",
       "  background-color: var(--sklearn-color-fitted-level-3);\n",
       "}\n",
       "</style><div id=\"sk-container-id-1\" class=\"sk-top-container\"><div class=\"sk-text-repr-fallback\"><pre>LinearRegression()</pre><b>In a Jupyter environment, please rerun this cell to show the HTML representation or trust the notebook. <br />On GitHub, the HTML representation is unable to render, please try loading this page with nbviewer.org.</b></div><div class=\"sk-container\" hidden><div class=\"sk-item\"><div class=\"sk-estimator fitted sk-toggleable\"><input class=\"sk-toggleable__control sk-hidden--visually\" id=\"sk-estimator-id-1\" type=\"checkbox\" checked><label for=\"sk-estimator-id-1\" class=\"sk-toggleable__label fitted sk-toggleable__label-arrow fitted\">&nbsp;&nbsp;LinearRegression<a class=\"sk-estimator-doc-link fitted\" rel=\"noreferrer\" target=\"_blank\" href=\"https://scikit-learn.org/1.4/modules/generated/sklearn.linear_model.LinearRegression.html\">?<span>Documentation for LinearRegression</span></a><span class=\"sk-estimator-doc-link fitted\">i<span>Fitted</span></span></label><div class=\"sk-toggleable__content fitted\"><pre>LinearRegression()</pre></div> </div></div></div></div>"
      ],
      "text/plain": [
       "LinearRegression()"
      ]
     },
     "execution_count": 6,
     "metadata": {},
     "output_type": "execute_result"
    }
   ],
   "source": [
    "lin_reg = LinearRegression()\n",
    "lin_reg.fit(X,y)"
   ]
  },
  {
   "cell_type": "code",
   "execution_count": 7,
   "metadata": {},
   "outputs": [
    {
     "name": "stdout",
     "output_type": "stream",
     "text": [
      "[67.80593827]\n"
     ]
    }
   ],
   "source": [
    "print(lin_reg.coef_)"
   ]
  },
  {
   "cell_type": "code",
   "execution_count": 8,
   "metadata": {},
   "outputs": [
    {
     "data": {
      "text/plain": [
       "<matplotlib.collections.PathCollection at 0x17d232b30>"
      ]
     },
     "execution_count": 8,
     "metadata": {},
     "output_type": "execute_result"
    },
    {
     "data": {
      "image/png": "[encoded data removed]",
      "text/plain": [
       "<Figure size 640x480 with 1 Axes>"
      ]
     },
     "metadata": {},
     "output_type": "display_data"
    }
   ],
   "source": [
    "plt.scatter(X,y)"
   ]
  },
  {
   "cell_type": "code",
   "execution_count": 9,
   "metadata": {},
   "outputs": [
    {
     "data": {
      "text/plain": [
       "tensor(67)"
      ]
     },
     "execution_count": 9,
     "metadata": {},
     "output_type": "execute_result"
    }
   ],
   "source": [
    "coef_tensor = torch.tensor(coef,dtype=torch.long)\n",
    "coef_tensor"
   ]
  },
  {
   "cell_type": "code",
   "execution_count": 10,
   "metadata": {},
   "outputs": [
    {
     "ename": "IndexError",
     "evalue": "index 1 is out of bounds for axis 1 with size 1",
     "output_type": "error",
     "traceback": [
      "\u001b[0;31m---------------------------------------------------------------------------\u001b[0m",
      "\u001b[0;31mIndexError\u001b[0m                                Traceback (most recent call last)",
      "Cell \u001b[0;32mIn[10], line 1\u001b[0m\n\u001b[0;32m----> 1\u001b[0m first_set \u001b[38;5;241m=\u001b[39m Data(X[:,\u001b[38;5;241m0\u001b[39m],y,\u001b[43mX\u001b[49m\u001b[43m[\u001b[49m\u001b[43m:\u001b[49m\u001b[43m,\u001b[49m\u001b[38;5;241;43m1\u001b[39;49m\u001b[43m]\u001b[49m)\n",
      "\u001b[0;31mIndexError\u001b[0m: index 1 is out of bounds for axis 1 with size 1"
     ]
    }
   ],
   "source": [
    "first_set = Data(X[:,0],y,X[:,1])"
   ]
  },
  {
   "cell_type": "code",
   "execution_count": null,
   "metadata": {},
   "outputs": [
    {
     "data": {
      "application/vnd.plotly.v1+json": {
       "config": {
        "plotlyServerURL": "https://plot.ly"
       },
       "data": [
        {
         "mode": "markers",
         "type": "scatter3d",
         "x": [
          -1.0062749064355991,
          0.07537649926361639,
          -1.4439423868174173,
          -0.3975764480935282,
          1.2986892576243876,
          -1.0014717917039428,
          -1.4618052855517658,
          1.5102617171770578,
          -0.6111103050911451,
          0.6988234948815039,
          0.9473012613493608,
          -0.5527532130477556,
          -0.9844271705036098,
          1.6012390133481462,
          0.6601003352623805,
          -0.4505920174712742,
          -0.22088210699361904,
          -0.8313089098815527,
          0.6980371422942767,
          1.47231582039048
         ],
         "y": [
          0.03563896089259755,
          0.20480760674773368,
          1.804970219650252,
          -0.583051780191791,
          -1.8736224071012144,
          -0.47910126725004243,
          0.760104695575664,
          1.3427684453966822,
          0.05021526586610779,
          1.0678094791333834,
          -0.7714333420831877,
          1.0997889097805158,
          0.47650213432393324,
          -0.3826862220529757,
          -2.150702726362274,
          -0.5165806257734745,
          1.160003013462657,
          -0.7405311162751983,
          -0.2937545874159228,
          -0.21114465632344698
         ],
         "z": [
          -0.20953031086039317,
          0.23584513493768638,
          1.4420133866113298,
          -0.7210258389249228,
          -1.533740524977129,
          -0.7992014087923325,
          0.3382833583968065,
          1.9290883693908225,
          -0.1296944566831768,
          1.3076113713031519,
          -0.5387230871198145,
          1.05650160203209,
          0.26725399008281236,
          -0.009926140842941028,
          -2.134925924367405,
          -0.6818010822228059,
          1.144685625695478,
          -0.9477030359919918,
          -0.14600264893742246,
          0.1309916212701585
         ]
        }
       ],
       "layout": {
        "hovermode": "closest",
        "scene": {
         "xaxis": {
          "title": {
           "text": "X1"
          }
         },
         "yaxis": {
          "title": {
           "text": "X2"
          }
         },
         "zaxis": {
          "title": {
           "text": "Y"
          }
         }
        },
        "template": {
         "data": {
          "bar": [
           {
            "error_x": {
             "color": "#2a3f5f"
            },
            "error_y": {
             "color": "#2a3f5f"
            },
            "marker": {
             "line": {
              "color": "#E5ECF6",
              "width": 0.5
             },
             "pattern": {
              "fillmode": "overlay",
              "size": 10,
              "solidity": 0.2
             }
            },
            "type": "bar"
           }
          ],
          "barpolar": [
           {
            "marker": {
             "line": {
              "color": "#E5ECF6",
              "width": 0.5
             },
             "pattern": {
              "fillmode": "overlay",
              "size": 10,
              "solidity": 0.2
             }
            },
            "type": "barpolar"
           }
          ],
          "carpet": [
           {
            "aaxis": {
             "endlinecolor": "#2a3f5f",
             "gridcolor": "white",
             "linecolor": "white",
             "minorgridcolor": "white",
             "startlinecolor": "#2a3f5f"
            },
            "baxis": {
             "endlinecolor": "#2a3f5f",
             "gridcolor": "white",
             "linecolor": "white",
             "minorgridcolor": "white",
             "startlinecolor": "#2a3f5f"
            },
            "type": "carpet"
           }
          ],
          "choropleth": [
           {
            "colorbar": {
             "outlinewidth": 0,
             "ticks": ""
            },
            "type": "choropleth"
           }
          ],
          "contour": [
           {
            "colorbar": {
             "outlinewidth": 0,
             "ticks": ""
            },
            "colorscale": [
             [
              0,
              "#0d0887"
             ],
             [
              0.1111111111111111,
              "#46039f"
             ],
             [
              0.2222222222222222,
              "#7201a8"
             ],
             [
              0.3333333333333333,
              "#9c179e"
             ],
             [
              0.4444444444444444,
              "#bd3786"
             ],
             [
              0.5555555555555556,
              "#d8576b"
             ],
             [
              0.6666666666666666,
              "#ed7953"
             ],
             [
              0.7777777777777778,
              "#fb9f3a"
             ],
             [
              0.8888888888888888,
              "#fdca26"
             ],
             [
              1,
              "#f0f921"
             ]
            ],
            "type": "contour"
           }
          ],
          "contourcarpet": [
           {
            "colorbar": {
             "outlinewidth": 0,
             "ticks": ""
            },
            "type": "contourcarpet"
           }
          ],
          "heatmap": [
           {
            "colorbar": {
             "outlinewidth": 0,
             "ticks": ""
            },
            "colorscale": [
             [
              0,
              "#0d0887"
             ],
             [
              0.1111111111111111,
              "#46039f"
             ],
             [
              0.2222222222222222,
              "#7201a8"
             ],
             [
              0.3333333333333333,
              "#9c179e"
             ],
             [
              0.4444444444444444,
              "#bd3786"
             ],
             [
              0.5555555555555556,
              "#d8576b"
             ],
             [
              0.6666666666666666,
              "#ed7953"
             ],
             [
              0.7777777777777778,
              "#fb9f3a"
             ],
             [
              0.8888888888888888,
              "#fdca26"
             ],
             [
              1,
              "#f0f921"
             ]
            ],
            "type": "heatmap"
           }
          ],
          "heatmapgl": [
           {
            "colorbar": {
             "outlinewidth": 0,
             "ticks": ""
            },
            "colorscale": [
             [
              0,
              "#0d0887"
             ],
             [
              0.1111111111111111,
              "#46039f"
             ],
             [
              0.2222222222222222,
              "#7201a8"
             ],
             [
              0.3333333333333333,
              "#9c179e"
             ],
             [
              0.4444444444444444,
              "#bd3786"
             ],
             [
              0.5555555555555556,
              "#d8576b"
             ],
             [
              0.6666666666666666,
              "#ed7953"
             ],
             [
              0.7777777777777778,
              "#fb9f3a"
             ],
             [
              0.8888888888888888,
              "#fdca26"
             ],
             [
              1,
              "#f0f921"
             ]
            ],
            "type": "heatmapgl"
           }
          ],
          "histogram": [
           {
            "marker": {
             "pattern": {
              "fillmode": "overlay",
              "size": 10,
              "solidity": 0.2
             }
            },
            "type": "histogram"
           }
          ],
          "histogram2d": [
           {
            "colorbar": {
             "outlinewidth": 0,
             "ticks": ""
            },
            "colorscale": [
             [
              0,
              "#0d0887"
             ],
             [
              0.1111111111111111,
              "#46039f"
             ],
             [
              0.2222222222222222,
              "#7201a8"
             ],
             [
              0.3333333333333333,
              "#9c179e"
             ],
             [
              0.4444444444444444,
              "#bd3786"
             ],
             [
              0.5555555555555556,
              "#d8576b"
             ],
             [
              0.6666666666666666,
              "#ed7953"
             ],
             [
              0.7777777777777778,
              "#fb9f3a"
             ],
             [
              0.8888888888888888,
              "#fdca26"
             ],
             [
              1,
              "#f0f921"
             ]
            ],
            "type": "histogram2d"
           }
          ],
          "histogram2dcontour": [
           {
            "colorbar": {
             "outlinewidth": 0,
             "ticks": ""
            },
            "colorscale": [
             [
              0,
              "#0d0887"
             ],
             [
              0.1111111111111111,
              "#46039f"
             ],
             [
              0.2222222222222222,
              "#7201a8"
             ],
             [
              0.3333333333333333,
              "#9c179e"
             ],
             [
              0.4444444444444444,
              "#bd3786"
             ],
             [
              0.5555555555555556,
              "#d8576b"
             ],
             [
              0.6666666666666666,
              "#ed7953"
             ],
             [
              0.7777777777777778,
              "#fb9f3a"
             ],
             [
              0.8888888888888888,
              "#fdca26"
             ],
             [
              1,
              "#f0f921"
             ]
            ],
            "type": "histogram2dcontour"
           }
          ],
          "mesh3d": [
           {
            "colorbar": {
             "outlinewidth": 0,
             "ticks": ""
            },
            "type": "mesh3d"
           }
          ],
          "parcoords": [
           {
            "line": {
             "colorbar": {
              "outlinewidth": 0,
              "ticks": ""
             }
            },
            "type": "parcoords"
           }
          ],
          "pie": [
           {
            "automargin": true,
            "type": "pie"
           }
          ],
          "scatter": [
           {
            "fillpattern": {
             "fillmode": "overlay",
             "size": 10,
             "solidity": 0.2
            },
            "type": "scatter"
           }
          ],
          "scatter3d": [
           {
            "line": {
             "colorbar": {
              "outlinewidth": 0,
              "ticks": ""
             }
            },
            "marker": {
             "colorbar": {
              "outlinewidth": 0,
              "ticks": ""
             }
            },
            "type": "scatter3d"
           }
          ],
          "scattercarpet": [
           {
            "marker": {
             "colorbar": {
              "outlinewidth": 0,
              "ticks": ""
             }
            },
            "type": "scattercarpet"
           }
          ],
          "scattergeo": [
           {
            "marker": {
             "colorbar": {
              "outlinewidth": 0,
              "ticks": ""
             }
            },
            "type": "scattergeo"
           }
          ],
          "scattergl": [
           {
            "marker": {
             "colorbar": {
              "outlinewidth": 0,
              "ticks": ""
             }
            },
            "type": "scattergl"
           }
          ],
          "scattermapbox": [
           {
            "marker": {
             "colorbar": {
              "outlinewidth": 0,
              "ticks": ""
             }
            },
            "type": "scattermapbox"
           }
          ],
          "scatterpolar": [
           {
            "marker": {
             "colorbar": {
              "outlinewidth": 0,
              "ticks": ""
             }
            },
            "type": "scatterpolar"
           }
          ],
          "scatterpolargl": [
           {
            "marker": {
             "colorbar": {
              "outlinewidth": 0,
              "ticks": ""
             }
            },
            "type": "scatterpolargl"
           }
          ],
          "scatterternary": [
           {
            "marker": {
             "colorbar": {
              "outlinewidth": 0,
              "ticks": ""
             }
            },
            "type": "scatterternary"
           }
          ],
          "surface": [
           {
            "colorbar": {
             "outlinewidth": 0,
             "ticks": ""
            },
            "colorscale": [
             [
              0,
              "#0d0887"
             ],
             [
              0.1111111111111111,
              "#46039f"
             ],
             [
              0.2222222222222222,
              "#7201a8"
             ],
             [
              0.3333333333333333,
              "#9c179e"
             ],
             [
              0.4444444444444444,
              "#bd3786"
             ],
             [
              0.5555555555555556,
              "#d8576b"
             ],
             [
              0.6666666666666666,
              "#ed7953"
             ],
             [
              0.7777777777777778,
              "#fb9f3a"
             ],
             [
              0.8888888888888888,
              "#fdca26"
             ],
             [
              1,
              "#f0f921"
             ]
            ],
            "type": "surface"
           }
          ],
          "table": [
           {
            "cells": {
             "fill": {
              "color": "#EBF0F8"
             },
             "line": {
              "color": "white"
             }
            },
            "header": {
             "fill": {
              "color": "#C8D4E3"
             },
             "line": {
              "color": "white"
             }
            },
            "type": "table"
           }
          ]
         },
         "layout": {
          "annotationdefaults": {
           "arrowcolor": "#2a3f5f",
           "arrowhead": 0,
           "arrowwidth": 1
          },
          "autotypenumbers": "strict",
          "coloraxis": {
           "colorbar": {
            "outlinewidth": 0,
            "ticks": ""
           }
          },
          "colorscale": {
           "diverging": [
            [
             0,
             "#8e0152"
            ],
            [
             0.1,
             "#c51b7d"
            ],
            [
             0.2,
             "#de77ae"
            ],
            [
             0.3,
             "#f1b6da"
            ],
            [
             0.4,
             "#fde0ef"
            ],
            [
             0.5,
             "#f7f7f7"
            ],
            [
             0.6,
             "#e6f5d0"
            ],
            [
             0.7,
             "#b8e186"
            ],
            [
             0.8,
             "#7fbc41"
            ],
            [
             0.9,
             "#4d9221"
            ],
            [
             1,
             "#276419"
            ]
           ],
           "sequential": [
            [
             0,
             "#0d0887"
            ],
            [
             0.1111111111111111,
             "#46039f"
            ],
            [
             0.2222222222222222,
             "#7201a8"
            ],
            [
             0.3333333333333333,
             "#9c179e"
            ],
            [
             0.4444444444444444,
             "#bd3786"
            ],
            [
             0.5555555555555556,
             "#d8576b"
            ],
            [
             0.6666666666666666,
             "#ed7953"
            ],
            [
             0.7777777777777778,
             "#fb9f3a"
            ],
            [
             0.8888888888888888,
             "#fdca26"
            ],
            [
             1,
             "#f0f921"
            ]
           ],
           "sequentialminus": [
            [
             0,
             "#0d0887"
            ],
            [
             0.1111111111111111,
             "#46039f"
            ],
            [
             0.2222222222222222,
             "#7201a8"
            ],
            [
             0.3333333333333333,
             "#9c179e"
            ],
            [
             0.4444444444444444,
             "#bd3786"
            ],
            [
             0.5555555555555556,
             "#d8576b"
            ],
            [
             0.6666666666666666,
             "#ed7953"
            ],
            [
             0.7777777777777778,
             "#fb9f3a"
            ],
            [
             0.8888888888888888,
             "#fdca26"
            ],
            [
             1,
             "#f0f921"
            ]
           ]
          },
          "colorway": [
           "#636efa",
           "#EF553B",
           "#00cc96",
           "#ab63fa",
           "#FFA15A",
           "#19d3f3",
           "#FF6692",
           "#B6E880",
           "#FF97FF",
           "#FECB52"
          ],
          "font": {
           "color": "#2a3f5f"
          },
          "geo": {
           "bgcolor": "white",
           "lakecolor": "white",
           "landcolor": "#E5ECF6",
           "showlakes": true,
           "showland": true,
           "subunitcolor": "white"
          },
          "hoverlabel": {
           "align": "left"
          },
          "hovermode": "closest",
          "mapbox": {
           "style": "light"
          },
          "paper_bgcolor": "white",
          "plot_bgcolor": "#E5ECF6",
          "polar": {
           "angularaxis": {
            "gridcolor": "white",
            "linecolor": "white",
            "ticks": ""
           },
           "bgcolor": "#E5ECF6",
           "radialaxis": {
            "gridcolor": "white",
            "linecolor": "white",
            "ticks": ""
           }
          },
          "scene": {
           "xaxis": {
            "backgroundcolor": "#E5ECF6",
            "gridcolor": "white",
            "gridwidth": 2,
            "linecolor": "white",
            "showbackground": true,
            "ticks": "",
            "zerolinecolor": "white"
           },
           "yaxis": {
            "backgroundcolor": "#E5ECF6",
            "gridcolor": "white",
            "gridwidth": 2,
            "linecolor": "white",
            "showbackground": true,
            "ticks": "",
            "zerolinecolor": "white"
           },
           "zaxis": {
            "backgroundcolor": "#E5ECF6",
            "gridcolor": "white",
            "gridwidth": 2,
            "linecolor": "white",
            "showbackground": true,
            "ticks": "",
            "zerolinecolor": "white"
           }
          },
          "shapedefaults": {
           "line": {
            "color": "#2a3f5f"
           }
          },
          "ternary": {
           "aaxis": {
            "gridcolor": "white",
            "linecolor": "white",
            "ticks": ""
           },
           "baxis": {
            "gridcolor": "white",
            "linecolor": "white",
            "ticks": ""
           },
           "bgcolor": "#E5ECF6",
           "caxis": {
            "gridcolor": "white",
            "linecolor": "white",
            "ticks": ""
           }
          },
          "title": {
           "x": 0.05
          },
          "xaxis": {
           "automargin": true,
           "gridcolor": "white",
           "linecolor": "white",
           "ticks": "",
           "title": {
            "standoff": 15
           },
           "zerolinecolor": "white",
           "zerolinewidth": 2
          },
          "yaxis": {
           "automargin": true,
           "gridcolor": "white",
           "linecolor": "white",
           "ticks": "",
           "title": {
            "standoff": 15
           },
           "zerolinecolor": "white",
           "zerolinewidth": 2
          }
         }
        },
        "title": {
         "text": "Two Features Regression Plot"
        }
       }
      }
     },
     "metadata": {},
     "output_type": "display_data"
    }
   ],
   "source": [
    "first_set.plot_data()"
   ]
  },
  {
   "cell_type": "code",
   "execution_count": null,
   "metadata": {},
   "outputs": [
    {
     "data": {
      "application/vnd.plotly.v1+json": {
       "config": {
        "plotlyServerURL": "https://plot.ly"
       },
       "data": [
        {
         "type": "surface",
         "x": [
          [
           -10,
           -10,
           -10,
           -10,
           -10,
           -10,
           -10,
           -10,
           -10,
           -10,
           -10,
           -10,
           -10,
           -10,
           -10,
           -10,
           -10,
           -10,
           -10,
           -10,
           -10,
           -10,
           -10,
           -10,
           -10,
           -10,
           -10,
           -10,
           -10,
           -10
          ],
          [
           -9.310344696044922,
           -9.310344696044922,
           -9.310344696044922,
           -9.310344696044922,
           -9.310344696044922,
           -9.310344696044922,
           -9.310344696044922,
           -9.310344696044922,
           -9.310344696044922,
           -9.310344696044922,
           -9.310344696044922,
           -9.310344696044922,
           -9.310344696044922,
           -9.310344696044922,
           -9.310344696044922,
           -9.310344696044922,
           -9.310344696044922,
           -9.310344696044922,
           -9.310344696044922,
           -9.310344696044922,
           -9.310344696044922,
           -9.310344696044922,
           -9.310344696044922,
           -9.310344696044922,
           -9.310344696044922,
           -9.310344696044922,
           -9.310344696044922,
           -9.310344696044922,
           -9.310344696044922,
           -9.310344696044922
          ],
          [
           -8.620689392089844,
           -8.620689392089844,
           -8.620689392089844,
           -8.620689392089844,
           -8.620689392089844,
           -8.620689392089844,
           -8.620689392089844,
           -8.620689392089844,
           -8.620689392089844,
           -8.620689392089844,
           -8.620689392089844,
           -8.620689392089844,
           -8.620689392089844,
           -8.620689392089844,
           -8.620689392089844,
           -8.620689392089844,
           -8.620689392089844,
           -8.620689392089844,
           -8.620689392089844,
           -8.620689392089844,
           -8.620689392089844,
           -8.620689392089844,
           -8.620689392089844,
           -8.620689392089844,
           -8.620689392089844,
           -8.620689392089844,
           -8.620689392089844,
           -8.620689392089844,
           -8.620689392089844,
           -8.620689392089844
          ],
          [
           -7.931034564971924,
           -7.931034564971924,
           -7.931034564971924,
           -7.931034564971924,
           -7.931034564971924,
           -7.931034564971924,
           -7.931034564971924,
           -7.931034564971924,
           -7.931034564971924,
           -7.931034564971924,
           -7.931034564971924,
           -7.931034564971924,
           -7.931034564971924,
           -7.931034564971924,
           -7.931034564971924,
           -7.931034564971924,
           -7.931034564971924,
           -7.931034564971924,
           -7.931034564971924,
           -7.931034564971924,
           -7.931034564971924,
           -7.931034564971924,
           -7.931034564971924,
           -7.931034564971924,
           -7.931034564971924,
           -7.931034564971924,
           -7.931034564971924,
           -7.931034564971924,
           -7.931034564971924,
           -7.931034564971924
          ],
          [
           -7.241379261016846,
           -7.241379261016846,
           -7.241379261016846,
           -7.241379261016846,
           -7.241379261016846,
           -7.241379261016846,
           -7.241379261016846,
           -7.241379261016846,
           -7.241379261016846,
           -7.241379261016846,
           -7.241379261016846,
           -7.241379261016846,
           -7.241379261016846,
           -7.241379261016846,
           -7.241379261016846,
           -7.241379261016846,
           -7.241379261016846,
           -7.241379261016846,
           -7.241379261016846,
           -7.241379261016846,
           -7.241379261016846,
           -7.241379261016846,
           -7.241379261016846,
           -7.241379261016846,
           -7.241379261016846,
           -7.241379261016846,
           -7.241379261016846,
           -7.241379261016846,
           -7.241379261016846,
           -7.241379261016846
          ],
          [
           -6.551723957061768,
           -6.551723957061768,
           -6.551723957061768,
           -6.551723957061768,
           -6.551723957061768,
           -6.551723957061768,
           -6.551723957061768,
           -6.551723957061768,
           -6.551723957061768,
           -6.551723957061768,
           -6.551723957061768,
           -6.551723957061768,
           -6.551723957061768,
           -6.551723957061768,
           -6.551723957061768,
           -6.551723957061768,
           -6.551723957061768,
           -6.551723957061768,
           -6.551723957061768,
           -6.551723957061768,
           -6.551723957061768,
           -6.551723957061768,
           -6.551723957061768,
           -6.551723957061768,
           -6.551723957061768,
           -6.551723957061768,
           -6.551723957061768,
           -6.551723957061768,
           -6.551723957061768,
           -6.551723957061768
          ],
          [
           -5.862069129943848,
           -5.862069129943848,
           -5.862069129943848,
           -5.862069129943848,
           -5.862069129943848,
           -5.862069129943848,
           -5.862069129943848,
           -5.862069129943848,
           -5.862069129943848,
           -5.862069129943848,
           -5.862069129943848,
           -5.862069129943848,
           -5.862069129943848,
           -5.862069129943848,
           -5.862069129943848,
           -5.862069129943848,
           -5.862069129943848,
           -5.862069129943848,
           -5.862069129943848,
           -5.862069129943848,
           -5.862069129943848,
           -5.862069129943848,
           -5.862069129943848,
           -5.862069129943848,
           -5.862069129943848,
           -5.862069129943848,
           -5.862069129943848,
           -5.862069129943848,
           -5.862069129943848,
           -5.862069129943848
          ],
          [
           -5.1724138259887695,
           -5.1724138259887695,
           -5.1724138259887695,
           -5.1724138259887695,
           -5.1724138259887695,
           -5.1724138259887695,
           -5.1724138259887695,
           -5.1724138259887695,
           -5.1724138259887695,
           -5.1724138259887695,
           -5.1724138259887695,
           -5.1724138259887695,
           -5.1724138259887695,
           -5.1724138259887695,
           -5.1724138259887695,
           -5.1724138259887695,
           -5.1724138259887695,
           -5.1724138259887695,
           -5.1724138259887695,
           -5.1724138259887695,
           -5.1724138259887695,
           -5.1724138259887695,
           -5.1724138259887695,
           -5.1724138259887695,
           -5.1724138259887695,
           -5.1724138259887695,
           -5.1724138259887695,
           -5.1724138259887695,
           -5.1724138259887695,
           -5.1724138259887695
          ],
          [
           -4.482758522033691,
           -4.482758522033691,
           -4.482758522033691,
           -4.482758522033691,
           -4.482758522033691,
           -4.482758522033691,
           -4.482758522033691,
           -4.482758522033691,
           -4.482758522033691,
           -4.482758522033691,
           -4.482758522033691,
           -4.482758522033691,
           -4.482758522033691,
           -4.482758522033691,
           -4.482758522033691,
           -4.482758522033691,
           -4.482758522033691,
           -4.482758522033691,
           -4.482758522033691,
           -4.482758522033691,
           -4.482758522033691,
           -4.482758522033691,
           -4.482758522033691,
           -4.482758522033691,
           -4.482758522033691,
           -4.482758522033691,
           -4.482758522033691,
           -4.482758522033691,
           -4.482758522033691,
           -4.482758522033691
          ],
          [
           -3.7931032180786133,
           -3.7931032180786133,
           -3.7931032180786133,
           -3.7931032180786133,
           -3.7931032180786133,
           -3.7931032180786133,
           -3.7931032180786133,
           -3.7931032180786133,
           -3.7931032180786133,
           -3.7931032180786133,
           -3.7931032180786133,
           -3.7931032180786133,
           -3.7931032180786133,
           -3.7931032180786133,
           -3.7931032180786133,
           -3.7931032180786133,
           -3.7931032180786133,
           -3.7931032180786133,
           -3.7931032180786133,
           -3.7931032180786133,
           -3.7931032180786133,
           -3.7931032180786133,
           -3.7931032180786133,
           -3.7931032180786133,
           -3.7931032180786133,
           -3.7931032180786133,
           -3.7931032180786133,
           -3.7931032180786133,
           -3.7931032180786133,
           -3.7931032180786133
          ],
          [
           -3.103447914123535,
           -3.103447914123535,
           -3.103447914123535,
           -3.103447914123535,
           -3.103447914123535,
           -3.103447914123535,
           -3.103447914123535,
           -3.103447914123535,
           -3.103447914123535,
           -3.103447914123535,
           -3.103447914123535,
           -3.103447914123535,
           -3.103447914123535,
           -3.103447914123535,
           -3.103447914123535,
           -3.103447914123535,
           -3.103447914123535,
           -3.103447914123535,
           -3.103447914123535,
           -3.103447914123535,
           -3.103447914123535,
           -3.103447914123535,
           -3.103447914123535,
           -3.103447914123535,
           -3.103447914123535,
           -3.103447914123535,
           -3.103447914123535,
           -3.103447914123535,
           -3.103447914123535,
           -3.103447914123535
          ],
          [
           -2.4137930870056152,
           -2.4137930870056152,
           -2.4137930870056152,
           -2.4137930870056152,
           -2.4137930870056152,
           -2.4137930870056152,
           -2.4137930870056152,
           -2.4137930870056152,
           -2.4137930870056152,
           -2.4137930870056152,
           -2.4137930870056152,
           -2.4137930870056152,
           -2.4137930870056152,
           -2.4137930870056152,
           -2.4137930870056152,
           -2.4137930870056152,
           -2.4137930870056152,
           -2.4137930870056152,
           -2.4137930870056152,
           -2.4137930870056152,
           -2.4137930870056152,
           -2.4137930870056152,
           -2.4137930870056152,
           -2.4137930870056152,
           -2.4137930870056152,
           -2.4137930870056152,
           -2.4137930870056152,
           -2.4137930870056152,
           -2.4137930870056152,
           -2.4137930870056152
          ],
          [
           -1.7241382598876953,
           -1.7241382598876953,
           -1.7241382598876953,
           -1.7241382598876953,
           -1.7241382598876953,
           -1.7241382598876953,
           -1.7241382598876953,
           -1.7241382598876953,
           -1.7241382598876953,
           -1.7241382598876953,
           -1.7241382598876953,
           -1.7241382598876953,
           -1.7241382598876953,
           -1.7241382598876953,
           -1.7241382598876953,
           -1.7241382598876953,
           -1.7241382598876953,
           -1.7241382598876953,
           -1.7241382598876953,
           -1.7241382598876953,
           -1.7241382598876953,
           -1.7241382598876953,
           -1.7241382598876953,
           -1.7241382598876953,
           -1.7241382598876953,
           -1.7241382598876953,
           -1.7241382598876953,
           -1.7241382598876953,
           -1.7241382598876953,
           -1.7241382598876953
          ],
          [
           -1.0344829559326172,
           -1.0344829559326172,
           -1.0344829559326172,
           -1.0344829559326172,
           -1.0344829559326172,
           -1.0344829559326172,
           -1.0344829559326172,
           -1.0344829559326172,
           -1.0344829559326172,
           -1.0344829559326172,
           -1.0344829559326172,
           -1.0344829559326172,
           -1.0344829559326172,
           -1.0344829559326172,
           -1.0344829559326172,
           -1.0344829559326172,
           -1.0344829559326172,
           -1.0344829559326172,
           -1.0344829559326172,
           -1.0344829559326172,
           -1.0344829559326172,
           -1.0344829559326172,
           -1.0344829559326172,
           -1.0344829559326172,
           -1.0344829559326172,
           -1.0344829559326172,
           -1.0344829559326172,
           -1.0344829559326172,
           -1.0344829559326172,
           -1.0344829559326172
          ],
          [
           -0.34482765197753906,
           -0.34482765197753906,
           -0.34482765197753906,
           -0.34482765197753906,
           -0.34482765197753906,
           -0.34482765197753906,
           -0.34482765197753906,
           -0.34482765197753906,
           -0.34482765197753906,
           -0.34482765197753906,
           -0.34482765197753906,
           -0.34482765197753906,
           -0.34482765197753906,
           -0.34482765197753906,
           -0.34482765197753906,
           -0.34482765197753906,
           -0.34482765197753906,
           -0.34482765197753906,
           -0.34482765197753906,
           -0.34482765197753906,
           -0.34482765197753906,
           -0.34482765197753906,
           -0.34482765197753906,
           -0.34482765197753906,
           -0.34482765197753906,
           -0.34482765197753906,
           -0.34482765197753906,
           -0.34482765197753906,
           -0.34482765197753906,
           -0.34482765197753906
          ],
          [
           0.34482765197753906,
           0.34482765197753906,
           0.34482765197753906,
           0.34482765197753906,
           0.34482765197753906,
           0.34482765197753906,
           0.34482765197753906,
           0.34482765197753906,
           0.34482765197753906,
           0.34482765197753906,
           0.34482765197753906,
           0.34482765197753906,
           0.34482765197753906,
           0.34482765197753906,
           0.34482765197753906,
           0.34482765197753906,
           0.34482765197753906,
           0.34482765197753906,
           0.34482765197753906,
           0.34482765197753906,
           0.34482765197753906,
           0.34482765197753906,
           0.34482765197753906,
           0.34482765197753906,
           0.34482765197753906,
           0.34482765197753906,
           0.34482765197753906,
           0.34482765197753906,
           0.34482765197753906,
           0.34482765197753906
          ],
          [
           1.0344829559326172,
           1.0344829559326172,
           1.0344829559326172,
           1.0344829559326172,
           1.0344829559326172,
           1.0344829559326172,
           1.0344829559326172,
           1.0344829559326172,
           1.0344829559326172,
           1.0344829559326172,
           1.0344829559326172,
           1.0344829559326172,
           1.0344829559326172,
           1.0344829559326172,
           1.0344829559326172,
           1.0344829559326172,
           1.0344829559326172,
           1.0344829559326172,
           1.0344829559326172,
           1.0344829559326172,
           1.0344829559326172,
           1.0344829559326172,
           1.0344829559326172,
           1.0344829559326172,
           1.0344829559326172,
           1.0344829559326172,
           1.0344829559326172,
           1.0344829559326172,
           1.0344829559326172,
           1.0344829559326172
          ],
          [
           1.7241382598876953,
           1.7241382598876953,
           1.7241382598876953,
           1.7241382598876953,
           1.7241382598876953,
           1.7241382598876953,
           1.7241382598876953,
           1.7241382598876953,
           1.7241382598876953,
           1.7241382598876953,
           1.7241382598876953,
           1.7241382598876953,
           1.7241382598876953,
           1.7241382598876953,
           1.7241382598876953,
           1.7241382598876953,
           1.7241382598876953,
           1.7241382598876953,
           1.7241382598876953,
           1.7241382598876953,
           1.7241382598876953,
           1.7241382598876953,
           1.7241382598876953,
           1.7241382598876953,
           1.7241382598876953,
           1.7241382598876953,
           1.7241382598876953,
           1.7241382598876953,
           1.7241382598876953,
           1.7241382598876953
          ],
          [
           2.4137930870056152,
           2.4137930870056152,
           2.4137930870056152,
           2.4137930870056152,
           2.4137930870056152,
           2.4137930870056152,
           2.4137930870056152,
           2.4137930870056152,
           2.4137930870056152,
           2.4137930870056152,
           2.4137930870056152,
           2.4137930870056152,
           2.4137930870056152,
           2.4137930870056152,
           2.4137930870056152,
           2.4137930870056152,
           2.4137930870056152,
           2.4137930870056152,
           2.4137930870056152,
           2.4137930870056152,
           2.4137930870056152,
           2.4137930870056152,
           2.4137930870056152,
           2.4137930870056152,
           2.4137930870056152,
           2.4137930870056152,
           2.4137930870056152,
           2.4137930870056152,
           2.4137930870056152,
           2.4137930870056152
          ],
          [
           3.103447914123535,
           3.103447914123535,
           3.103447914123535,
           3.103447914123535,
           3.103447914123535,
           3.103447914123535,
           3.103447914123535,
           3.103447914123535,
           3.103447914123535,
           3.103447914123535,
           3.103447914123535,
           3.103447914123535,
           3.103447914123535,
           3.103447914123535,
           3.103447914123535,
           3.103447914123535,
           3.103447914123535,
           3.103447914123535,
           3.103447914123535,
           3.103447914123535,
           3.103447914123535,
           3.103447914123535,
           3.103447914123535,
           3.103447914123535,
           3.103447914123535,
           3.103447914123535,
           3.103447914123535,
           3.103447914123535,
           3.103447914123535,
           3.103447914123535
          ],
          [
           3.7931032180786133,
           3.7931032180786133,
           3.7931032180786133,
           3.7931032180786133,
           3.7931032180786133,
           3.7931032180786133,
           3.7931032180786133,
           3.7931032180786133,
           3.7931032180786133,
           3.7931032180786133,
           3.7931032180786133,
           3.7931032180786133,
           3.7931032180786133,
           3.7931032180786133,
           3.7931032180786133,
           3.7931032180786133,
           3.7931032180786133,
           3.7931032180786133,
           3.7931032180786133,
           3.7931032180786133,
           3.7931032180786133,
           3.7931032180786133,
           3.7931032180786133,
           3.7931032180786133,
           3.7931032180786133,
           3.7931032180786133,
           3.7931032180786133,
           3.7931032180786133,
           3.7931032180786133,
           3.7931032180786133
          ],
          [
           4.482758522033691,
           4.482758522033691,
           4.482758522033691,
           4.482758522033691,
           4.482758522033691,
           4.482758522033691,
           4.482758522033691,
           4.482758522033691,
           4.482758522033691,
           4.482758522033691,
           4.482758522033691,
           4.482758522033691,
           4.482758522033691,
           4.482758522033691,
           4.482758522033691,
           4.482758522033691,
           4.482758522033691,
           4.482758522033691,
           4.482758522033691,
           4.482758522033691,
           4.482758522033691,
           4.482758522033691,
           4.482758522033691,
           4.482758522033691,
           4.482758522033691,
           4.482758522033691,
           4.482758522033691,
           4.482758522033691,
           4.482758522033691,
           4.482758522033691
          ],
          [
           5.1724138259887695,
           5.1724138259887695,
           5.1724138259887695,
           5.1724138259887695,
           5.1724138259887695,
           5.1724138259887695,
           5.1724138259887695,
           5.1724138259887695,
           5.1724138259887695,
           5.1724138259887695,
           5.1724138259887695,
           5.1724138259887695,
           5.1724138259887695,
           5.1724138259887695,
           5.1724138259887695,
           5.1724138259887695,
           5.1724138259887695,
           5.1724138259887695,
           5.1724138259887695,
           5.1724138259887695,
           5.1724138259887695,
           5.1724138259887695,
           5.1724138259887695,
           5.1724138259887695,
           5.1724138259887695,
           5.1724138259887695,
           5.1724138259887695,
           5.1724138259887695,
           5.1724138259887695,
           5.1724138259887695
          ],
          [
           5.862069129943848,
           5.862069129943848,
           5.862069129943848,
           5.862069129943848,
           5.862069129943848,
           5.862069129943848,
           5.862069129943848,
           5.862069129943848,
           5.862069129943848,
           5.862069129943848,
           5.862069129943848,
           5.862069129943848,
           5.862069129943848,
           5.862069129943848,
           5.862069129943848,
           5.862069129943848,
           5.862069129943848,
           5.862069129943848,
           5.862069129943848,
           5.862069129943848,
           5.862069129943848,
           5.862069129943848,
           5.862069129943848,
           5.862069129943848,
           5.862069129943848,
           5.862069129943848,
           5.862069129943848,
           5.862069129943848,
           5.862069129943848,
           5.862069129943848
          ],
          [
           6.551723957061768,
           6.551723957061768,
           6.551723957061768,
           6.551723957061768,
           6.551723957061768,
           6.551723957061768,
           6.551723957061768,
           6.551723957061768,
           6.551723957061768,
           6.551723957061768,
           6.551723957061768,
           6.551723957061768,
           6.551723957061768,
           6.551723957061768,
           6.551723957061768,
           6.551723957061768,
           6.551723957061768,
           6.551723957061768,
           6.551723957061768,
           6.551723957061768,
           6.551723957061768,
           6.551723957061768,
           6.551723957061768,
           6.551723957061768,
           6.551723957061768,
           6.551723957061768,
           6.551723957061768,
           6.551723957061768,
           6.551723957061768,
           6.551723957061768
          ],
          [
           7.241379261016846,
           7.241379261016846,
           7.241379261016846,
           7.241379261016846,
           7.241379261016846,
           7.241379261016846,
           7.241379261016846,
           7.241379261016846,
           7.241379261016846,
           7.241379261016846,
           7.241379261016846,
           7.241379261016846,
           7.241379261016846,
           7.241379261016846,
           7.241379261016846,
           7.241379261016846,
           7.241379261016846,
           7.241379261016846,
           7.241379261016846,
           7.241379261016846,
           7.241379261016846,
           7.241379261016846,
           7.241379261016846,
           7.241379261016846,
           7.241379261016846,
           7.241379261016846,
           7.241379261016846,
           7.241379261016846,
           7.241379261016846,
           7.241379261016846
          ],
          [
           7.931034564971924,
           7.931034564971924,
           7.931034564971924,
           7.931034564971924,
           7.931034564971924,
           7.931034564971924,
           7.931034564971924,
           7.931034564971924,
           7.931034564971924,
           7.931034564971924,
           7.931034564971924,
           7.931034564971924,
           7.931034564971924,
           7.931034564971924,
           7.931034564971924,
           7.931034564971924,
           7.931034564971924,
           7.931034564971924,
           7.931034564971924,
           7.931034564971924,
           7.931034564971924,
           7.931034564971924,
           7.931034564971924,
           7.931034564971924,
           7.931034564971924,
           7.931034564971924,
           7.931034564971924,
           7.931034564971924,
           7.931034564971924,
           7.931034564971924
          ],
          [
           8.620689392089844,
           8.620689392089844,
           8.620689392089844,
           8.620689392089844,
           8.620689392089844,
           8.620689392089844,
           8.620689392089844,
           8.620689392089844,
           8.620689392089844,
           8.620689392089844,
           8.620689392089844,
           8.620689392089844,
           8.620689392089844,
           8.620689392089844,
           8.620689392089844,
           8.620689392089844,
           8.620689392089844,
           8.620689392089844,
           8.620689392089844,
           8.620689392089844,
           8.620689392089844,
           8.620689392089844,
           8.620689392089844,
           8.620689392089844,
           8.620689392089844,
           8.620689392089844,
           8.620689392089844,
           8.620689392089844,
           8.620689392089844,
           8.620689392089844
          ],
          [
           9.310344696044922,
           9.310344696044922,
           9.310344696044922,
           9.310344696044922,
           9.310344696044922,
           9.310344696044922,
           9.310344696044922,
           9.310344696044922,
           9.310344696044922,
           9.310344696044922,
           9.310344696044922,
           9.310344696044922,
           9.310344696044922,
           9.310344696044922,
           9.310344696044922,
           9.310344696044922,
           9.310344696044922,
           9.310344696044922,
           9.310344696044922,
           9.310344696044922,
           9.310344696044922,
           9.310344696044922,
           9.310344696044922,
           9.310344696044922,
           9.310344696044922,
           9.310344696044922,
           9.310344696044922,
           9.310344696044922,
           9.310344696044922,
           9.310344696044922
          ],
          [
           10,
           10,
           10,
           10,
           10,
           10,
           10,
           10,
           10,
           10,
           10,
           10,
           10,
           10,
           10,
           10,
           10,
           10,
           10,
           10,
           10,
           10,
           10,
           10,
           10,
           10,
           10,
           10,
           10,
           10
          ]
         ],
         "y": [
          [
           -10,
           -9.310344696044922,
           -8.620689392089844,
           -7.931034564971924,
           -7.241379261016846,
           -6.551723957061768,
           -5.862069129943848,
           -5.1724138259887695,
           -4.482758522033691,
           -3.7931032180786133,
           -3.103447914123535,
           -2.4137930870056152,
           -1.7241382598876953,
           -1.0344829559326172,
           -0.34482765197753906,
           0.34482765197753906,
           1.0344829559326172,
           1.7241382598876953,
           2.4137930870056152,
           3.103447914123535,
           3.7931032180786133,
           4.482758522033691,
           5.1724138259887695,
           5.862069129943848,
           6.551723957061768,
           7.241379261016846,
           7.931034564971924,
           8.620689392089844,
           9.310344696044922,
           10
          ],
          [
           -10,
           -9.310344696044922,
           -8.620689392089844,
           -7.931034564971924,
           -7.241379261016846,
           -6.551723957061768,
           -5.862069129943848,
           -5.1724138259887695,
           -4.482758522033691,
           -3.7931032180786133,
           -3.103447914123535,
           -2.4137930870056152,
           -1.7241382598876953,
           -1.0344829559326172,
           -0.34482765197753906,
           0.34482765197753906,
           1.0344829559326172,
           1.7241382598876953,
           2.4137930870056152,
           3.103447914123535,
           3.7931032180786133,
           4.482758522033691,
           5.1724138259887695,
           5.862069129943848,
           6.551723957061768,
           7.241379261016846,
           7.931034564971924,
           8.620689392089844,
           9.310344696044922,
           10
          ],
          [
           -10,
           -9.310344696044922,
           -8.620689392089844,
           -7.931034564971924,
           -7.241379261016846,
           -6.551723957061768,
           -5.862069129943848,
           -5.1724138259887695,
           -4.482758522033691,
           -3.7931032180786133,
           -3.103447914123535,
           -2.4137930870056152,
           -1.7241382598876953,
           -1.0344829559326172,
           -0.34482765197753906,
           0.34482765197753906,
           1.0344829559326172,
           1.7241382598876953,
           2.4137930870056152,
           3.103447914123535,
           3.7931032180786133,
           4.482758522033691,
           5.1724138259887695,
           5.862069129943848,
           6.551723957061768,
           7.241379261016846,
           7.931034564971924,
           8.620689392089844,
           9.310344696044922,
           10
          ],
          [
           -10,
           -9.310344696044922,
           -8.620689392089844,
           -7.931034564971924,
           -7.241379261016846,
           -6.551723957061768,
           -5.862069129943848,
           -5.1724138259887695,
           -4.482758522033691,
           -3.7931032180786133,
           -3.103447914123535,
           -2.4137930870056152,
           -1.7241382598876953,
           -1.0344829559326172,
           -0.34482765197753906,
           0.34482765197753906,
           1.0344829559326172,
           1.7241382598876953,
           2.4137930870056152,
           3.103447914123535,
           3.7931032180786133,
           4.482758522033691,
           5.1724138259887695,
           5.862069129943848,
           6.551723957061768,
           7.241379261016846,
           7.931034564971924,
           8.620689392089844,
           9.310344696044922,
           10
          ],
          [
           -10,
           -9.310344696044922,
           -8.620689392089844,
           -7.931034564971924,
           -7.241379261016846,
           -6.551723957061768,
           -5.862069129943848,
           -5.1724138259887695,
           -4.482758522033691,
           -3.7931032180786133,
           -3.103447914123535,
           -2.4137930870056152,
           -1.7241382598876953,
           -1.0344829559326172,
           -0.34482765197753906,
           0.34482765197753906,
           1.0344829559326172,
           1.7241382598876953,
           2.4137930870056152,
           3.103447914123535,
           3.7931032180786133,
           4.482758522033691,
           5.1724138259887695,
           5.862069129943848,
           6.551723957061768,
           7.241379261016846,
           7.931034564971924,
           8.620689392089844,
           9.310344696044922,
           10
          ],
          [
           -10,
           -9.310344696044922,
           -8.620689392089844,
           -7.931034564971924,
           -7.241379261016846,
           -6.551723957061768,
           -5.862069129943848,
           -5.1724138259887695,
           -4.482758522033691,
           -3.7931032180786133,
           -3.103447914123535,
           -2.4137930870056152,
           -1.7241382598876953,
           -1.0344829559326172,
           -0.34482765197753906,
           0.34482765197753906,
           1.0344829559326172,
           1.7241382598876953,
           2.4137930870056152,
           3.103447914123535,
           3.7931032180786133,
           4.482758522033691,
           5.1724138259887695,
           5.862069129943848,
           6.551723957061768,
           7.241379261016846,
           7.931034564971924,
           8.620689392089844,
           9.310344696044922,
           10
          ],
          [
           -10,
           -9.310344696044922,
           -8.620689392089844,
           -7.931034564971924,
           -7.241379261016846,
           -6.551723957061768,
           -5.862069129943848,
           -5.1724138259887695,
           -4.482758522033691,
           -3.7931032180786133,
           -3.103447914123535,
           -2.4137930870056152,
           -1.7241382598876953,
           -1.0344829559326172,
           -0.34482765197753906,
           0.34482765197753906,
           1.0344829559326172,
           1.7241382598876953,
           2.4137930870056152,
           3.103447914123535,
           3.7931032180786133,
           4.482758522033691,
           5.1724138259887695,
           5.862069129943848,
           6.551723957061768,
           7.241379261016846,
           7.931034564971924,
           8.620689392089844,
           9.310344696044922,
           10
          ],
          [
           -10,
           -9.310344696044922,
           -8.620689392089844,
           -7.931034564971924,
           -7.241379261016846,
           -6.551723957061768,
           -5.862069129943848,
           -5.1724138259887695,
           -4.482758522033691,
           -3.7931032180786133,
           -3.103447914123535,
           -2.4137930870056152,
           -1.7241382598876953,
           -1.0344829559326172,
           -0.34482765197753906,
           0.34482765197753906,
           1.0344829559326172,
           1.7241382598876953,
           2.4137930870056152,
           3.103447914123535,
           3.7931032180786133,
           4.482758522033691,
           5.1724138259887695,
           5.862069129943848,
           6.551723957061768,
           7.241379261016846,
           7.931034564971924,
           8.620689392089844,
           9.310344696044922,
           10
          ],
          [
           -10,
           -9.310344696044922,
           -8.620689392089844,
           -7.931034564971924,
           -7.241379261016846,
           -6.551723957061768,
           -5.862069129943848,
           -5.1724138259887695,
           -4.482758522033691,
           -3.7931032180786133,
           -3.103447914123535,
           -2.4137930870056152,
           -1.7241382598876953,
           -1.0344829559326172,
           -0.34482765197753906,
           0.34482765197753906,
           1.0344829559326172,
           1.7241382598876953,
           2.4137930870056152,
           3.103447914123535,
           3.7931032180786133,
           4.482758522033691,
           5.1724138259887695,
           5.862069129943848,
           6.551723957061768,
           7.241379261016846,
           7.931034564971924,
           8.620689392089844,
           9.310344696044922,
           10
          ],
          [
           -10,
           -9.310344696044922,
           -8.620689392089844,
           -7.931034564971924,
           -7.241379261016846,
           -6.551723957061768,
           -5.862069129943848,
           -5.1724138259887695,
           -4.482758522033691,
           -3.7931032180786133,
           -3.103447914123535,
           -2.4137930870056152,
           -1.7241382598876953,
           -1.0344829559326172,
           -0.34482765197753906,
           0.34482765197753906,
           1.0344829559326172,
           1.7241382598876953,
           2.4137930870056152,
           3.103447914123535,
           3.7931032180786133,
           4.482758522033691,
           5.1724138259887695,
           5.862069129943848,
           6.551723957061768,
           7.241379261016846,
           7.931034564971924,
           8.620689392089844,
           9.310344696044922,
           10
          ],
          [
           -10,
           -9.310344696044922,
           -8.620689392089844,
           -7.931034564971924,
           -7.241379261016846,
           -6.551723957061768,
           -5.862069129943848,
           -5.1724138259887695,
           -4.482758522033691,
           -3.7931032180786133,
           -3.103447914123535,
           -2.4137930870056152,
           -1.7241382598876953,
           -1.0344829559326172,
           -0.34482765197753906,
           0.34482765197753906,
           1.0344829559326172,
           1.7241382598876953,
           2.4137930870056152,
           3.103447914123535,
           3.7931032180786133,
           4.482758522033691,
           5.1724138259887695,
           5.862069129943848,
           6.551723957061768,
           7.241379261016846,
           7.931034564971924,
           8.620689392089844,
           9.310344696044922,
           10
          ],
          [
           -10,
           -9.310344696044922,
           -8.620689392089844,
           -7.931034564971924,
           -7.241379261016846,
           -6.551723957061768,
           -5.862069129943848,
           -5.1724138259887695,
           -4.482758522033691,
           -3.7931032180786133,
           -3.103447914123535,
           -2.4137930870056152,
           -1.7241382598876953,
           -1.0344829559326172,
           -0.34482765197753906,
           0.34482765197753906,
           1.0344829559326172,
           1.7241382598876953,
           2.4137930870056152,
           3.103447914123535,
           3.7931032180786133,
           4.482758522033691,
           5.1724138259887695,
           5.862069129943848,
           6.551723957061768,
           7.241379261016846,
           7.931034564971924,
           8.620689392089844,
           9.310344696044922,
           10
          ],
          [
           -10,
           -9.310344696044922,
           -8.620689392089844,
           -7.931034564971924,
           -7.241379261016846,
           -6.551723957061768,
           -5.862069129943848,
           -5.1724138259887695,
           -4.482758522033691,
           -3.7931032180786133,
           -3.103447914123535,
           -2.4137930870056152,
           -1.7241382598876953,
           -1.0344829559326172,
           -0.34482765197753906,
           0.34482765197753906,
           1.0344829559326172,
           1.7241382598876953,
           2.4137930870056152,
           3.103447914123535,
           3.7931032180786133,
           4.482758522033691,
           5.1724138259887695,
           5.862069129943848,
           6.551723957061768,
           7.241379261016846,
           7.931034564971924,
           8.620689392089844,
           9.310344696044922,
           10
          ],
          [
           -10,
           -9.310344696044922,
           -8.620689392089844,
           -7.931034564971924,
           -7.241379261016846,
           -6.551723957061768,
           -5.862069129943848,
           -5.1724138259887695,
           -4.482758522033691,
           -3.7931032180786133,
           -3.103447914123535,
           -2.4137930870056152,
           -1.7241382598876953,
           -1.0344829559326172,
           -0.34482765197753906,
           0.34482765197753906,
           1.0344829559326172,
           1.7241382598876953,
           2.4137930870056152,
           3.103447914123535,
           3.7931032180786133,
           4.482758522033691,
           5.1724138259887695,
           5.862069129943848,
           6.551723957061768,
           7.241379261016846,
           7.931034564971924,
           8.620689392089844,
           9.310344696044922,
           10
          ],
          [
           -10,
           -9.310344696044922,
           -8.620689392089844,
           -7.931034564971924,
           -7.241379261016846,
           -6.551723957061768,
           -5.862069129943848,
           -5.1724138259887695,
           -4.482758522033691,
           -3.7931032180786133,
           -3.103447914123535,
           -2.4137930870056152,
           -1.7241382598876953,
           -1.0344829559326172,
           -0.34482765197753906,
           0.34482765197753906,
           1.0344829559326172,
           1.7241382598876953,
           2.4137930870056152,
           3.103447914123535,
           3.7931032180786133,
           4.482758522033691,
           5.1724138259887695,
           5.862069129943848,
           6.551723957061768,
           7.241379261016846,
           7.931034564971924,
           8.620689392089844,
           9.310344696044922,
           10
          ],
          [
           -10,
           -9.310344696044922,
           -8.620689392089844,
           -7.931034564971924,
           -7.241379261016846,
           -6.551723957061768,
           -5.862069129943848,
           -5.1724138259887695,
           -4.482758522033691,
           -3.7931032180786133,
           -3.103447914123535,
           -2.4137930870056152,
           -1.7241382598876953,
           -1.0344829559326172,
           -0.34482765197753906,
           0.34482765197753906,
           1.0344829559326172,
           1.7241382598876953,
           2.4137930870056152,
           3.103447914123535,
           3.7931032180786133,
           4.482758522033691,
           5.1724138259887695,
           5.862069129943848,
           6.551723957061768,
           7.241379261016846,
           7.931034564971924,
           8.620689392089844,
           9.310344696044922,
           10
          ],
          [
           -10,
           -9.310344696044922,
           -8.620689392089844,
           -7.931034564971924,
           -7.241379261016846,
           -6.551723957061768,
           -5.862069129943848,
           -5.1724138259887695,
           -4.482758522033691,
           -3.7931032180786133,
           -3.103447914123535,
           -2.4137930870056152,
           -1.7241382598876953,
           -1.0344829559326172,
           -0.34482765197753906,
           0.34482765197753906,
           1.0344829559326172,
           1.7241382598876953,
           2.4137930870056152,
           3.103447914123535,
           3.7931032180786133,
           4.482758522033691,
           5.1724138259887695,
           5.862069129943848,
           6.551723957061768,
           7.241379261016846,
           7.931034564971924,
           8.620689392089844,
           9.310344696044922,
           10
          ],
          [
           -10,
           -9.310344696044922,
           -8.620689392089844,
           -7.931034564971924,
           -7.241379261016846,
           -6.551723957061768,
           -5.862069129943848,
           -5.1724138259887695,
           -4.482758522033691,
           -3.7931032180786133,
           -3.103447914123535,
           -2.4137930870056152,
           -1.7241382598876953,
           -1.0344829559326172,
           -0.34482765197753906,
           0.34482765197753906,
           1.0344829559326172,
           1.7241382598876953,
           2.4137930870056152,
           3.103447914123535,
           3.7931032180786133,
           4.482758522033691,
           5.1724138259887695,
           5.862069129943848,
           6.551723957061768,
           7.241379261016846,
           7.931034564971924,
           8.620689392089844,
           9.310344696044922,
           10
          ],
          [
           -10,
           -9.310344696044922,
           -8.620689392089844,
           -7.931034564971924,
           -7.241379261016846,
           -6.551723957061768,
           -5.862069129943848,
           -5.1724138259887695,
           -4.482758522033691,
           -3.7931032180786133,
           -3.103447914123535,
           -2.4137930870056152,
           -1.7241382598876953,
           -1.0344829559326172,
           -0.34482765197753906,
           0.34482765197753906,
           1.0344829559326172,
           1.7241382598876953,
           2.4137930870056152,
           3.103447914123535,
           3.7931032180786133,
           4.482758522033691,
           5.1724138259887695,
           5.862069129943848,
           6.551723957061768,
           7.241379261016846,
           7.931034564971924,
           8.620689392089844,
           9.310344696044922,
           10
          ],
          [
           -10,
           -9.310344696044922,
           -8.620689392089844,
           -7.931034564971924,
           -7.241379261016846,
           -6.551723957061768,
           -5.862069129943848,
           -5.1724138259887695,
           -4.482758522033691,
           -3.7931032180786133,
           -3.103447914123535,
           -2.4137930870056152,
           -1.7241382598876953,
           -1.0344829559326172,
           -0.34482765197753906,
           0.34482765197753906,
           1.0344829559326172,
           1.7241382598876953,
           2.4137930870056152,
           3.103447914123535,
           3.7931032180786133,
           4.482758522033691,
           5.1724138259887695,
           5.862069129943848,
           6.551723957061768,
           7.241379261016846,
           7.931034564971924,
           8.620689392089844,
           9.310344696044922,
           10
          ],
          [
           -10,
           -9.310344696044922,
           -8.620689392089844,
           -7.931034564971924,
           -7.241379261016846,
           -6.551723957061768,
           -5.862069129943848,
           -5.1724138259887695,
           -4.482758522033691,
           -3.7931032180786133,
           -3.103447914123535,
           -2.4137930870056152,
           -1.7241382598876953,
           -1.0344829559326172,
           -0.34482765197753906,
           0.34482765197753906,
           1.0344829559326172,
           1.7241382598876953,
           2.4137930870056152,
           3.103447914123535,
           3.7931032180786133,
           4.482758522033691,
           5.1724138259887695,
           5.862069129943848,
           6.551723957061768,
           7.241379261016846,
           7.931034564971924,
           8.620689392089844,
           9.310344696044922,
           10
          ],
          [
           -10,
           -9.310344696044922,
           -8.620689392089844,
           -7.931034564971924,
           -7.241379261016846,
           -6.551723957061768,
           -5.862069129943848,
           -5.1724138259887695,
           -4.482758522033691,
           -3.7931032180786133,
           -3.103447914123535,
           -2.4137930870056152,
           -1.7241382598876953,
           -1.0344829559326172,
           -0.34482765197753906,
           0.34482765197753906,
           1.0344829559326172,
           1.7241382598876953,
           2.4137930870056152,
           3.103447914123535,
           3.7931032180786133,
           4.482758522033691,
           5.1724138259887695,
           5.862069129943848,
           6.551723957061768,
           7.241379261016846,
           7.931034564971924,
           8.620689392089844,
           9.310344696044922,
           10
          ],
          [
           -10,
           -9.310344696044922,
           -8.620689392089844,
           -7.931034564971924,
           -7.241379261016846,
           -6.551723957061768,
           -5.862069129943848,
           -5.1724138259887695,
           -4.482758522033691,
           -3.7931032180786133,
           -3.103447914123535,
           -2.4137930870056152,
           -1.7241382598876953,
           -1.0344829559326172,
           -0.34482765197753906,
           0.34482765197753906,
           1.0344829559326172,
           1.7241382598876953,
           2.4137930870056152,
           3.103447914123535,
           3.7931032180786133,
           4.482758522033691,
           5.1724138259887695,
           5.862069129943848,
           6.551723957061768,
           7.241379261016846,
           7.931034564971924,
           8.620689392089844,
           9.310344696044922,
           10
          ],
          [
           -10,
           -9.310344696044922,
           -8.620689392089844,
           -7.931034564971924,
           -7.241379261016846,
           -6.551723957061768,
           -5.862069129943848,
           -5.1724138259887695,
           -4.482758522033691,
           -3.7931032180786133,
           -3.103447914123535,
           -2.4137930870056152,
           -1.7241382598876953,
           -1.0344829559326172,
           -0.34482765197753906,
           0.34482765197753906,
           1.0344829559326172,
           1.7241382598876953,
           2.4137930870056152,
           3.103447914123535,
           3.7931032180786133,
           4.482758522033691,
           5.1724138259887695,
           5.862069129943848,
           6.551723957061768,
           7.241379261016846,
           7.931034564971924,
           8.620689392089844,
           9.310344696044922,
           10
          ],
          [
           -10,
           -9.310344696044922,
           -8.620689392089844,
           -7.931034564971924,
           -7.241379261016846,
           -6.551723957061768,
           -5.862069129943848,
           -5.1724138259887695,
           -4.482758522033691,
           -3.7931032180786133,
           -3.103447914123535,
           -2.4137930870056152,
           -1.7241382598876953,
           -1.0344829559326172,
           -0.34482765197753906,
           0.34482765197753906,
           1.0344829559326172,
           1.7241382598876953,
           2.4137930870056152,
           3.103447914123535,
           3.7931032180786133,
           4.482758522033691,
           5.1724138259887695,
           5.862069129943848,
           6.551723957061768,
           7.241379261016846,
           7.931034564971924,
           8.620689392089844,
           9.310344696044922,
           10
          ],
          [
           -10,
           -9.310344696044922,
           -8.620689392089844,
           -7.931034564971924,
           -7.241379261016846,
           -6.551723957061768,
           -5.862069129943848,
           -5.1724138259887695,
           -4.482758522033691,
           -3.7931032180786133,
           -3.103447914123535,
           -2.4137930870056152,
           -1.7241382598876953,
           -1.0344829559326172,
           -0.34482765197753906,
           0.34482765197753906,
           1.0344829559326172,
           1.7241382598876953,
           2.4137930870056152,
           3.103447914123535,
           3.7931032180786133,
           4.482758522033691,
           5.1724138259887695,
           5.862069129943848,
           6.551723957061768,
           7.241379261016846,
           7.931034564971924,
           8.620689392089844,
           9.310344696044922,
           10
          ],
          [
           -10,
           -9.310344696044922,
           -8.620689392089844,
           -7.931034564971924,
           -7.241379261016846,
           -6.551723957061768,
           -5.862069129943848,
           -5.1724138259887695,
           -4.482758522033691,
           -3.7931032180786133,
           -3.103447914123535,
           -2.4137930870056152,
           -1.7241382598876953,
           -1.0344829559326172,
           -0.34482765197753906,
           0.34482765197753906,
           1.0344829559326172,
           1.7241382598876953,
           2.4137930870056152,
           3.103447914123535,
           3.7931032180786133,
           4.482758522033691,
           5.1724138259887695,
           5.862069129943848,
           6.551723957061768,
           7.241379261016846,
           7.931034564971924,
           8.620689392089844,
           9.310344696044922,
           10
          ],
          [
           -10,
           -9.310344696044922,
           -8.620689392089844,
           -7.931034564971924,
           -7.241379261016846,
           -6.551723957061768,
           -5.862069129943848,
           -5.1724138259887695,
           -4.482758522033691,
           -3.7931032180786133,
           -3.103447914123535,
           -2.4137930870056152,
           -1.7241382598876953,
           -1.0344829559326172,
           -0.34482765197753906,
           0.34482765197753906,
           1.0344829559326172,
           1.7241382598876953,
           2.4137930870056152,
           3.103447914123535,
           3.7931032180786133,
           4.482758522033691,
           5.1724138259887695,
           5.862069129943848,
           6.551723957061768,
           7.241379261016846,
           7.931034564971924,
           8.620689392089844,
           9.310344696044922,
           10
          ],
          [
           -10,
           -9.310344696044922,
           -8.620689392089844,
           -7.931034564971924,
           -7.241379261016846,
           -6.551723957061768,
           -5.862069129943848,
           -5.1724138259887695,
           -4.482758522033691,
           -3.7931032180786133,
           -3.103447914123535,
           -2.4137930870056152,
           -1.7241382598876953,
           -1.0344829559326172,
           -0.34482765197753906,
           0.34482765197753906,
           1.0344829559326172,
           1.7241382598876953,
           2.4137930870056152,
           3.103447914123535,
           3.7931032180786133,
           4.482758522033691,
           5.1724138259887695,
           5.862069129943848,
           6.551723957061768,
           7.241379261016846,
           7.931034564971924,
           8.620689392089844,
           9.310344696044922,
           10
          ],
          [
           -10,
           -9.310344696044922,
           -8.620689392089844,
           -7.931034564971924,
           -7.241379261016846,
           -6.551723957061768,
           -5.862069129943848,
           -5.1724138259887695,
           -4.482758522033691,
           -3.7931032180786133,
           -3.103447914123535,
           -2.4137930870056152,
           -1.7241382598876953,
           -1.0344829559326172,
           -0.34482765197753906,
           0.34482765197753906,
           1.0344829559326172,
           1.7241382598876953,
           2.4137930870056152,
           3.103447914123535,
           3.7931032180786133,
           4.482758522033691,
           5.1724138259887695,
           5.862069129943848,
           6.551723957061768,
           7.241379261016846,
           7.931034564971924,
           8.620689392089844,
           9.310344696044922,
           10
          ]
         ],
         "z": [
          [
           154.25927734375,
           144.08282470703125,
           134.8576202392578,
           126.58367156982422,
           119.2609634399414,
           112.8895034790039,
           107.46929931640625,
           103.00033569335938,
           99.48262786865234,
           96.9161605834961,
           95.30094909667969,
           94.6369857788086,
           94.92426300048828,
           96.16279602050781,
           98.35256958007812,
           101.49359893798828,
           105.58587646484375,
           110.62940216064453,
           116.62417602539062,
           123.5701904296875,
           131.46746826171875,
           140.31597900390625,
           150.11575317382812,
           160.8667755126953,
           172.56903076171875,
           185.22254943847656,
           198.82730102539062,
           213.38331604003906,
           228.89056396484375,
           245.3490753173828
          ],
          [
           145.4932403564453,
           135.00857543945312,
           125.47517395019531,
           116.89301300048828,
           109.26210021972656,
           102.58244323730469,
           96.8540267944336,
           92.07686614990234,
           88.25094604492188,
           85.37627410888672,
           83.4528579711914,
           82.4806900024414,
           82.45976257324219,
           83.39009094238281,
           85.27166748046875,
           88.10448455810547,
           91.88855743408203,
           96.6238784790039,
           102.3104476928711,
           108.94825744628906,
           116.5373306274414,
           125.07764434814453,
           134.5692138671875,
           145.01202392578125,
           156.40606689453125,
           168.7513885498047,
           182.04794311523438,
           196.29574584960938,
           211.4947967529297,
           227.6450958251953
          ],
          [
           137.67843627929688,
           126.88558197021484,
           117.0439682006836,
           108.15361022949219,
           100.21449279785156,
           93.22662353515625,
           87.19001007080078,
           82.1046371459961,
           77.97051239013672,
           74.78764343261719,
           72.55601501464844,
           71.27564239501953,
           70.9465103149414,
           71.56863403320312,
           73.14200592041016,
           75.6666259765625,
           79.14249420166016,
           83.56961059570312,
           88.94796752929688,
           95.27758026123047,
           102.55844116210938,
           110.7905502319336,
           119.97390747070312,
           130.1085205078125,
           141.19436645507812,
           153.23147583007812,
           166.21983337402344,
           180.159423828125,
           195.05027770996094,
           210.89236450195312
          ],
          [
           130.8148956298828,
           119.71383666992188,
           109.56401824951172,
           100.3654556274414,
           92.11813354492188,
           84.82205963134766,
           78.47724151611328,
           73.08366394042969,
           68.6413345336914,
           65.15026092529297,
           62.61042785644531,
           61.0218505859375,
           60.384517669677734,
           60.69843673706055,
           61.963600158691406,
           64.18001556396484,
           67.3476791381836,
           71.46659088134766,
           76.5367431640625,
           82.55815124511719,
           89.53080749511719,
           97.4547119140625,
           106.32987213134766,
           116.1562728881836,
           126.93392181396484,
           138.66282653808594,
           151.3429718017578,
           164.974365234375,
           179.5570068359375,
           195.0908966064453
          ],
          [
           124.90260314941406,
           113.49333190917969,
           103.03530883789062,
           93.5285415649414,
           84.97301483154297,
           77.36873626708984,
           70.71571350097656,
           65.01393127441406,
           60.26340103149414,
           56.46411895751953,
           53.616085052490234,
           51.719303131103516,
           50.773765563964844,
           50.779476165771484,
           51.7364387512207,
           53.64464569091797,
           56.50410461425781,
           60.31481170654297,
           65.07676696777344,
           70.78996276855469,
           77.45441436767578,
           85.07012176513672,
           93.63706970214844,
           103.15526580810547,
           113.62471008300781,
           125.04540252685547,
           137.41734313964844,
           150.74053955078125,
           165.01498413085938,
           180.24066162109375
          ],
          [
           119.94155883789062,
           108.22407531738281,
           97.45784759521484,
           87.64287567138672,
           78.77914428710938,
           70.86666107177734,
           63.90543746948242,
           57.895450592041016,
           52.83671569824219,
           48.72922897338867,
           45.57299041748047,
           43.36800003051758,
           42.114261627197266,
           41.811767578125,
           42.46052169799805,
           44.06052780151367,
           46.61178207397461,
           50.11428451538086,
           54.568031311035156,
           59.973026275634766,
           66.32927703857422,
           73.63677215576172,
           81.89551544189453,
           91.10551452636719,
           101.2667465209961,
           112.37924194335938,
           124.44297790527344,
           137.4579620361328,
           151.4241943359375,
           166.34169006347656
          ],
          [
           115.93175506591797,
           103.90607452392578,
           92.8316421508789,
           82.70846557617188,
           73.53652954101562,
           65.31584167480469,
           58.04641342163086,
           51.72822189331055,
           46.36128234863281,
           41.94559097290039,
           38.48114776611328,
           35.967952728271484,
           34.406009674072266,
           33.795310974121094,
           34.1358642578125,
           35.42766189575195,
           37.670711517333984,
           40.86500930786133,
           45.010555267333984,
           50.10734558105469,
           56.15538787841797,
           63.15468215942383,
           71.105224609375,
           80.00701141357422,
           89.86004638671875,
           100.6643295288086,
           112.41986846923828,
           125.12664031982422,
           138.78466796875,
           153.39395141601562
          ],
          [
           112.87320709228516,
           100.53932189941406,
           89.15668487548828,
           78.72530364990234,
           69.24516296386719,
           60.716270446777344,
           53.138633728027344,
           46.512237548828125,
           40.837093353271484,
           36.113197326660156,
           32.34054946899414,
           29.51915168762207,
           27.649002075195312,
           26.730100631713867,
           26.7624454498291,
           27.746042251586914,
           29.680885314941406,
           32.566978454589844,
           36.404319763183594,
           41.19290542602539,
           46.932743072509766,
           53.62383270263672,
           61.26616668701172,
           69.85974884033203,
           79.40457916259766,
           89.90066528320312,
           101.34799194335938,
           113.74656677246094,
           127.09638977050781,
           141.39747619628906
          ],
          [
           110.76590728759766,
           98.12380981445312,
           86.43296813964844,
           75.6933822631836,
           65.90503692626953,
           57.06794357299805,
           49.18210220336914,
           42.247501373291016,
           36.26415252685547,
           31.232051849365234,
           27.151199340820312,
           24.021596908569336,
           21.843242645263672,
           20.61613655090332,
           20.34027862548828,
           21.015668869018555,
           22.642309188842773,
           25.220197677612305,
           28.749332427978516,
           33.229713439941406,
           38.661346435546875,
           45.04423141479492,
           52.378360748291016,
           60.66374206542969,
           69.9003677368164,
           80.08824157714844,
           91.22737121582031,
           103.31773376464844,
           116.35935974121094,
           130.35223388671875
          ],
          [
           109.60984802246094,
           96.65955352783203,
           84.66050720214844,
           73.61271667480469,
           63.51616668701172,
           54.37086486816406,
           46.17681884765625,
           38.934017181396484,
           32.642459869384766,
           27.302154541015625,
           22.913097381591797,
           19.475292205810547,
           16.988733291625977,
           15.453421592712402,
           14.869359016418457,
           15.236544609069824,
           16.55497932434082,
           18.824663162231445,
           22.04559326171875,
           26.217771530151367,
           31.34119987487793,
           37.41587829589844,
           44.441802978515625,
           52.41897964477539,
           61.34739685058594,
           71.2270736694336,
           82.05799102783203,
           93.84015655517578,
           106.57357025146484,
           120.25823974609375
          ],
          [
           109.40504455566406,
           96.14654541015625,
           83.83929443359375,
           72.4832992553711,
           62.07854461669922,
           52.625038146972656,
           44.12278747558594,
           36.57177734375,
           29.97201919555664,
           24.32350730895996,
           19.626245498657227,
           15.88023567199707,
           13.085472106933594,
           11.241955757141113,
           10.349688529968262,
           10.408669471740723,
           11.418899536132812,
           13.380378723144531,
           16.29310417175293,
           20.15707778930664,
           24.972301483154297,
           30.7387752532959,
           37.45649719238281,
           45.12546920776367,
           53.74568176269531,
           63.3171501159668,
           73.8398666381836,
           85.31382751464844,
           97.7390365600586,
           111.1155014038086
          ],
          [
           110.1514892578125,
           96.58478546142578,
           83.96932983398438,
           72.30513000488281,
           61.592166900634766,
           51.83045959472656,
           43.02000427246094,
           35.160789489746094,
           28.252826690673828,
           22.296110153198242,
           17.2906436920166,
           13.236429214477539,
           10.133461952209473,
           7.981740951538086,
           6.781269073486328,
           6.532045841217041,
           7.234071254730225,
           8.887345314025879,
           11.491867065429688,
           15.047636032104492,
           19.554655075073242,
           25.012924194335938,
           31.422441482543945,
           38.783206939697266,
           47.095218658447266,
           56.358482360839844,
           66.57299041748047,
           77.7387466430664,
           89.85575866699219,
           102.92401123046875
          ],
          [
           111.84918212890625,
           97.9742660522461,
           85.05060577392578,
           73.07820129394531,
           62.05704116821289,
           51.987125396728516,
           42.868465423583984,
           34.7010498046875,
           27.484880447387695,
           21.219961166381836,
           15.906290054321289,
           11.54387092590332,
           8.132699012756348,
           5.672773838043213,
           4.164097309112549,
           3.6066691875457764,
           4.000490188598633,
           5.345560550689697,
           7.641877174377441,
           10.88944149017334,
           15.0882568359375,
           20.23832130432129,
           26.33963394165039,
           33.39219665527344,
           41.395999908447266,
           50.35105895996094,
           60.25736618041992,
           71.11491394042969,
           82.92372131347656,
           95.68377685546875
          ],
          [
           114.49811553955078,
           100.31500244140625,
           87.08313751220703,
           74.80252838134766,
           63.47316360473633,
           53.09504318237305,
           43.66817855834961,
           35.19255828857422,
           27.668184280395508,
           21.09505844116211,
           15.473183631896973,
           10.802559852600098,
           7.083183765411377,
           4.315053462982178,
           2.4981720447540283,
           1.6325393915176392,
           1.7181557416915894,
           2.755021095275879,
           4.743133544921875,
           7.682493209838867,
           11.573103904724121,
           16.414962768554688,
           22.208070755004883,
           28.952428817749023,
           36.64802932739258,
           45.294883728027344,
           54.89298629760742,
           65.44232940673828,
           76.94293212890625,
           89.39478302001953
          ],
          [
           118.09830474853516,
           103.60698699951172,
           90.0669174194336,
           77.47810363769531,
           65.84053039550781,
           55.15420913696289,
           45.41913986206055,
           36.63531494140625,
           28.802736282348633,
           21.921405792236328,
           15.991326332092285,
           11.012497901916504,
           6.984916687011719,
           3.9085817337036133,
           1.7834956645965576,
           0.6096584796905518,
           0.38707008957862854,
           1.1157306432724,
           2.7956385612487793,
           5.426794052124023,
           9.009200096130371,
           13.542854309082031,
           19.02775764465332,
           25.463911056518555,
           32.8513069152832,
           41.18995666503906,
           50.479854583740234,
           60.72099304199219,
           71.91339111328125,
           84.05703735351562
          ],
          [
           122.64974212646484,
           107.8502197265625,
           94.00194549560547,
           81.10492706298828,
           69.15914916992188,
           58.16462326049805,
           48.1213493347168,
           39.029319763183594,
           30.88853645324707,
           23.69900131225586,
           17.460716247558594,
           12.173684120178223,
           7.8378987312316895,
           4.453359127044678,
           2.020068407058716,
           0.5380263328552246,
           0.00723325414583087,
           0.4276890158653259,
           1.7993923425674438,
           4.12234354019165,
           7.396544456481934,
           11.621994018554688,
           16.79869270324707,
           22.9266414642334,
           30.00583267211914,
           38.036277770996094,
           47.01797103881836,
           56.950904846191406,
           67.83509826660156,
           79.67053985595703
          ],
          [
           128.15243530273438,
           113.04470825195312,
           98.88822174072266,
           85.6830062866211,
           73.42902374267578,
           62.126285552978516,
           51.774810791015625,
           42.37457275390625,
           33.92558670043945,
           26.427846908569336,
           19.881357192993164,
           14.28611946105957,
           9.642129898071289,
           5.949385643005371,
           3.2078897953033447,
           1.4176431894302368,
           0.5786452889442444,
           0.6908963322639465,
           1.7543951272964478,
           3.769141674041748,
           6.735137939453125,
           10.652382850646973,
           15.52087688446045,
           21.340620040893555,
           28.11160659790039,
           35.83384704589844,
           44.5073356628418,
           54.1320686340332,
           64.70805358886719,
           76.23529052734375
          ],
          [
           134.6063690185547,
           119.19043731689453,
           104.72575378417969,
           91.21232604980469,
           78.65013885498047,
           67.03919982910156,
           56.3795166015625,
           46.671077728271484,
           37.913883209228516,
           30.107940673828125,
           23.253246307373047,
           17.349803924560547,
           12.39760971069336,
           8.396660804748535,
           5.346960067749023,
           3.2485086917877197,
           2.101306200027466,
           1.9053524732589722,
           2.660646915435791,
           4.367188930511475,
           7.024980545043945,
           10.634020805358887,
           15.194310188293457,
           20.705848693847656,
           27.168630599975586,
           34.582664489746094,
           42.94794845581055,
           52.26447677612305,
           62.532257080078125,
           73.75128936767578
          ],
          [
           142.0115509033203,
           126.28740692138672,
           111.51451873779297,
           97.6928939819336,
           84.82250213623047,
           72.90335845947266,
           61.93547058105469,
           51.9188232421875,
           42.85342788696289,
           34.739280700683594,
           27.576379776000977,
           21.364734649658203,
           16.10433578491211,
           11.795182228088379,
           8.437276840209961,
           6.03062105178833,
           4.57521390914917,
           4.071055889129639,
           4.518145561218262,
           5.916483402252197,
           8.266070365905762,
           11.566905975341797,
           15.818991661071777,
           21.02232551574707,
           27.176902770996094,
           34.28273391723633,
           42.339813232421875,
           51.34813690185547,
           61.30771255493164,
           72.21853637695312
          ],
          [
           150.36798095703125,
           134.33563232421875,
           119.2545394897461,
           105.12470245361328,
           91.94610595703125,
           79.71875762939453,
           68.44267272949219,
           58.117820739746094,
           48.74421691894531,
           40.32186508178711,
           32.85076141357422,
           26.33091163635254,
           20.76230812072754,
           16.14495086669922,
           12.478841781616211,
           9.763980865478516,
           8.00036907196045,
           7.188006401062012,
           7.326892375946045,
           8.417025566101074,
           10.45840835571289,
           13.45103931427002,
           17.394920349121094,
           22.290048599243164,
           28.136423110961914,
           34.93404769897461,
           42.682926177978516,
           51.38304138183594,
           61.0344123840332,
           71.63703918457031
          ],
          [
           159.6756591796875,
           143.33511352539062,
           127.94580841064453,
           113.50777435302734,
           100.0209732055664,
           87.48542022705078,
           75.901123046875,
           65.26806640625,
           55.58626174926758,
           46.85570526123047,
           39.07639694213867,
           32.24834060668945,
           26.37153434753418,
           21.44597053527832,
           17.471656799316406,
           14.448592185974121,
           12.376775741577148,
           11.256208419799805,
           11.086889266967773,
           11.868818283081055,
           13.601995468139648,
           16.286422729492188,
           19.92209815979004,
           24.509021759033203,
           30.047191619873047,
           36.53661346435547,
           43.9772834777832,
           52.369197845458984,
           61.712364196777344,
           72.00678253173828
          ],
          [
           169.93458557128906,
           153.28582763671875,
           137.5883331298828,
           122.84208679199219,
           109.04708099365234,
           96.20332336425781,
           84.31082153320312,
           73.36956787109375,
           63.379554748535156,
           54.34079360961914,
           46.25328063964844,
           39.11701965332031,
           32.9320068359375,
           27.698240280151367,
           23.415721893310547,
           20.08445167541504,
           17.704431533813477,
           16.275657653808594,
           15.798134803771973,
           16.271860122680664,
           17.69683265686035,
           20.073055267333984,
           23.40052604675293,
           27.679244995117188,
           32.909210205078125,
           39.09042739868164,
           46.22289276123047,
           54.306602478027344,
           63.3415641784668,
           73.32777404785156
          ],
          [
           181.14476013183594,
           164.18780517578125,
           148.18209838867188,
           133.12765502929688,
           119.02444458007812,
           105.87248229980469,
           93.6717758178711,
           82.42230987548828,
           72.12409973144531,
           62.777130126953125,
           54.381412506103516,
           46.936946868896484,
           40.443729400634766,
           34.90176010131836,
           30.31103515625,
           26.671560287475586,
           23.983335494995117,
           22.246356964111328,
           21.460630416870117,
           21.626150131225586,
           22.742918014526367,
           24.810935974121094,
           27.830202102661133,
           31.800716400146484,
           36.722476959228516,
           42.595489501953125,
           49.41975021362305,
           57.195255279541016,
           65.92201232910156,
           75.60002136230469
          ],
          [
           193.3061981201172,
           176.04103088378906,
           159.72711181640625,
           144.36447143554688,
           129.9530487060547,
           116.49288177490234,
           103.98397827148438,
           92.42630767822266,
           81.81988525390625,
           72.16471862792969,
           63.460792541503906,
           55.70812225341797,
           48.90670394897461,
           43.05652618408203,
           38.157596588134766,
           34.20991897583008,
           31.21348762512207,
           29.168306350708008,
           28.074373245239258,
           27.93168830871582,
           28.740251541137695,
           30.500064849853516,
           33.211124420166016,
           36.873435974121094,
           41.48699188232422,
           47.05179977416992,
           53.56785583496094,
           61.03515625,
           69.4537124633789,
           78.8235092163086
          ],
          [
           206.41885375976562,
           188.84548950195312,
           172.22337341308594,
           156.55252075195312,
           141.83290100097656,
           128.0645294189453,
           115.2474136352539,
           103.38154602050781,
           92.4669189453125,
           82.5035400390625,
           73.49141693115234,
           65.4305419921875,
           58.32091522216797,
           52.16253662109375,
           46.95540237426758,
           42.699520111083984,
           39.39488220214844,
           37.04149627685547,
           35.63935852050781,
           35.188472747802734,
           35.6888313293457,
           37.140438079833984,
           39.543296813964844,
           42.89739990234375,
           47.20275115966797,
           52.459354400634766,
           58.667205810546875,
           65.82630157470703,
           73.93665313720703,
           82.99824523925781
          ],
          [
           220.4827880859375,
           202.60121154785156,
           185.6708984375,
           169.69183349609375,
           154.66400146484375,
           140.58743286132812,
           127.46211242675781,
           115.28803253173828,
           104.0652084350586,
           93.79362487792969,
           84.4732894897461,
           76.10421752929688,
           68.68638610839844,
           62.21979904174805,
           56.70446014404297,
           52.14037322998047,
           48.52753448486328,
           45.865943908691406,
           44.155601501464844,
           43.396507263183594,
           43.588661193847656,
           44.73206329345703,
           46.826717376708984,
           49.87261962890625,
           53.86976623535156,
           58.81816482543945,
           64.71781158447266,
           71.5687026977539,
           79.37084197998047,
           88.12423706054688
          ],
          [
           235.49795532226562,
           217.3081817626953,
           200.0696563720703,
           183.7823944091797,
           168.4463653564453,
           154.06158447265625,
           140.6280517578125,
           128.14578247070312,
           116.61473846435547,
           106.03495788574219,
           96.40641784667969,
           87.72914123535156,
           80.00310516357422,
           73.22830963134766,
           67.40476989746094,
           62.53247833251953,
           58.61143112182617,
           55.64163589477539,
           53.62308883666992,
           52.55579376220703,
           52.43974304199219,
           53.274940490722656,
           55.0613899230957,
           57.7990837097168,
           61.4880256652832,
           66.12821960449219,
           71.71966552734375,
           78.2623519897461,
           85.75628662109375,
           94.20147705078125
          ],
          [
           251.46437072753906,
           232.9663848876953,
           215.41966247558594,
           198.82418823242188,
           183.17996215820312,
           168.48696899414062,
           154.7452392578125,
           141.9547576904297,
           130.1155242919922,
           119.22752380371094,
           109.29078674316406,
           100.3052978515625,
           92.27106475830078,
           85.18806457519531,
           79.05632019042969,
           73.87582397460938,
           69.64656829833984,
           66.36856842041016,
           64.04182434082031,
           62.66632080078125,
           62.2420654296875,
           62.76905822753906,
           64.24729919433594,
           66.67679595947266,
           70.05753326416016,
           74.38951873779297,
           79.67276000976562,
           85.90724182128906,
           93.09297180175781,
           101.2299575805664
          ],
          [
           268.3820495605469,
           249.5758514404297,
           231.72091674804688,
           214.81724548339844,
           198.86480712890625,
           183.86361694335938,
           169.81369018554688,
           156.71499633789062,
           144.5675506591797,
           133.37135314941406,
           123.12641143798828,
           113.83271789550781,
           105.49027252197266,
           98.09907531738281,
           91.65912628173828,
           86.17041778564453,
           81.63296508789062,
           78.04676055908203,
           75.41181182861328,
           73.72810363769531,
           72.99564361572266,
           73.21443176269531,
           74.38446807861328,
           76.50575256347656,
           79.57829284667969,
           83.6020736694336,
           88.57711029052734,
           94.50338745117188,
           101.38091278076172,
           109.2096939086914
          ],
          [
           286.2509460449219,
           267.1365661621094,
           248.9734344482422,
           231.7615509033203,
           215.5009002685547,
           200.19151306152344,
           185.8333740234375,
           172.42648315429688,
           159.9708251953125,
           148.4664306640625,
           137.9132843017578,
           128.31138610839844,
           119.66073608398438,
           111.96133422851562,
           105.21318054199219,
           99.41626739501953,
           94.57061004638672,
           90.67620086669922,
           87.73304748535156,
           85.74113464355469,
           84.70046997070312,
           84.61105346679688,
           85.47288513183594,
           87.28596496582031,
           90.05030059814453,
           93.76587677001953,
           98.43270111083984,
           104.05078125,
           110.62010192871094,
           118.14067840576172
          ]
         ]
        }
       ],
       "layout": {
        "template": {
         "data": {
          "bar": [
           {
            "error_x": {
             "color": "#2a3f5f"
            },
            "error_y": {
             "color": "#2a3f5f"
            },
            "marker": {
             "line": {
              "color": "#E5ECF6",
              "width": 0.5
             },
             "pattern": {
              "fillmode": "overlay",
              "size": 10,
              "solidity": 0.2
             }
            },
            "type": "bar"
           }
          ],
          "barpolar": [
           {
            "marker": {
             "line": {
              "color": "#E5ECF6",
              "width": 0.5
             },
             "pattern": {
              "fillmode": "overlay",
              "size": 10,
              "solidity": 0.2
             }
            },
            "type": "barpolar"
           }
          ],
          "carpet": [
           {
            "aaxis": {
             "endlinecolor": "#2a3f5f",
             "gridcolor": "white",
             "linecolor": "white",
             "minorgridcolor": "white",
             "startlinecolor": "#2a3f5f"
            },
            "baxis": {
             "endlinecolor": "#2a3f5f",
             "gridcolor": "white",
             "linecolor": "white",
             "minorgridcolor": "white",
             "startlinecolor": "#2a3f5f"
            },
            "type": "carpet"
           }
          ],
          "choropleth": [
           {
            "colorbar": {
             "outlinewidth": 0,
             "ticks": ""
            },
            "type": "choropleth"
           }
          ],
          "contour": [
           {
            "colorbar": {
             "outlinewidth": 0,
             "ticks": ""
            },
            "colorscale": [
             [
              0,
              "#0d0887"
             ],
             [
              0.1111111111111111,
              "#46039f"
             ],
             [
              0.2222222222222222,
              "#7201a8"
             ],
             [
              0.3333333333333333,
              "#9c179e"
             ],
             [
              0.4444444444444444,
              "#bd3786"
             ],
             [
              0.5555555555555556,
              "#d8576b"
             ],
             [
              0.6666666666666666,
              "#ed7953"
             ],
             [
              0.7777777777777778,
              "#fb9f3a"
             ],
             [
              0.8888888888888888,
              "#fdca26"
             ],
             [
              1,
              "#f0f921"
             ]
            ],
            "type": "contour"
           }
          ],
          "contourcarpet": [
           {
            "colorbar": {
             "outlinewidth": 0,
             "ticks": ""
            },
            "type": "contourcarpet"
           }
          ],
          "heatmap": [
           {
            "colorbar": {
             "outlinewidth": 0,
             "ticks": ""
            },
            "colorscale": [
             [
              0,
              "#0d0887"
             ],
             [
              0.1111111111111111,
              "#46039f"
             ],
             [
              0.2222222222222222,
              "#7201a8"
             ],
             [
              0.3333333333333333,
              "#9c179e"
             ],
             [
              0.4444444444444444,
              "#bd3786"
             ],
             [
              0.5555555555555556,
              "#d8576b"
             ],
             [
              0.6666666666666666,
              "#ed7953"
             ],
             [
              0.7777777777777778,
              "#fb9f3a"
             ],
             [
              0.8888888888888888,
              "#fdca26"
             ],
             [
              1,
              "#f0f921"
             ]
            ],
            "type": "heatmap"
           }
          ],
          "heatmapgl": [
           {
            "colorbar": {
             "outlinewidth": 0,
             "ticks": ""
            },
            "colorscale": [
             [
              0,
              "#0d0887"
             ],
             [
              0.1111111111111111,
              "#46039f"
             ],
             [
              0.2222222222222222,
              "#7201a8"
             ],
             [
              0.3333333333333333,
              "#9c179e"
             ],
             [
              0.4444444444444444,
              "#bd3786"
             ],
             [
              0.5555555555555556,
              "#d8576b"
             ],
             [
              0.6666666666666666,
              "#ed7953"
             ],
             [
              0.7777777777777778,
              "#fb9f3a"
             ],
             [
              0.8888888888888888,
              "#fdca26"
             ],
             [
              1,
              "#f0f921"
             ]
            ],
            "type": "heatmapgl"
           }
          ],
          "histogram": [
           {
            "marker": {
             "pattern": {
              "fillmode": "overlay",
              "size": 10,
              "solidity": 0.2
             }
            },
            "type": "histogram"
           }
          ],
          "histogram2d": [
           {
            "colorbar": {
             "outlinewidth": 0,
             "ticks": ""
            },
            "colorscale": [
             [
              0,
              "#0d0887"
             ],
             [
              0.1111111111111111,
              "#46039f"
             ],
             [
              0.2222222222222222,
              "#7201a8"
             ],
             [
              0.3333333333333333,
              "#9c179e"
             ],
             [
              0.4444444444444444,
              "#bd3786"
             ],
             [
              0.5555555555555556,
              "#d8576b"
             ],
             [
              0.6666666666666666,
              "#ed7953"
             ],
             [
              0.7777777777777778,
              "#fb9f3a"
             ],
             [
              0.8888888888888888,
              "#fdca26"
             ],
             [
              1,
              "#f0f921"
             ]
            ],
            "type": "histogram2d"
           }
          ],
          "histogram2dcontour": [
           {
            "colorbar": {
             "outlinewidth": 0,
             "ticks": ""
            },
            "colorscale": [
             [
              0,
              "#0d0887"
             ],
             [
              0.1111111111111111,
              "#46039f"
             ],
             [
              0.2222222222222222,
              "#7201a8"
             ],
             [
              0.3333333333333333,
              "#9c179e"
             ],
             [
              0.4444444444444444,
              "#bd3786"
             ],
             [
              0.5555555555555556,
              "#d8576b"
             ],
             [
              0.6666666666666666,
              "#ed7953"
             ],
             [
              0.7777777777777778,
              "#fb9f3a"
             ],
             [
              0.8888888888888888,
              "#fdca26"
             ],
             [
              1,
              "#f0f921"
             ]
            ],
            "type": "histogram2dcontour"
           }
          ],
          "mesh3d": [
           {
            "colorbar": {
             "outlinewidth": 0,
             "ticks": ""
            },
            "type": "mesh3d"
           }
          ],
          "parcoords": [
           {
            "line": {
             "colorbar": {
              "outlinewidth": 0,
              "ticks": ""
             }
            },
            "type": "parcoords"
           }
          ],
          "pie": [
           {
            "automargin": true,
            "type": "pie"
           }
          ],
          "scatter": [
           {
            "fillpattern": {
             "fillmode": "overlay",
             "size": 10,
             "solidity": 0.2
            },
            "type": "scatter"
           }
          ],
          "scatter3d": [
           {
            "line": {
             "colorbar": {
              "outlinewidth": 0,
              "ticks": ""
             }
            },
            "marker": {
             "colorbar": {
              "outlinewidth": 0,
              "ticks": ""
             }
            },
            "type": "scatter3d"
           }
          ],
          "scattercarpet": [
           {
            "marker": {
             "colorbar": {
              "outlinewidth": 0,
              "ticks": ""
             }
            },
            "type": "scattercarpet"
           }
          ],
          "scattergeo": [
           {
            "marker": {
             "colorbar": {
              "outlinewidth": 0,
              "ticks": ""
             }
            },
            "type": "scattergeo"
           }
          ],
          "scattergl": [
           {
            "marker": {
             "colorbar": {
              "outlinewidth": 0,
              "ticks": ""
             }
            },
            "type": "scattergl"
           }
          ],
          "scattermapbox": [
           {
            "marker": {
             "colorbar": {
              "outlinewidth": 0,
              "ticks": ""
             }
            },
            "type": "scattermapbox"
           }
          ],
          "scatterpolar": [
           {
            "marker": {
             "colorbar": {
              "outlinewidth": 0,
              "ticks": ""
             }
            },
            "type": "scatterpolar"
           }
          ],
          "scatterpolargl": [
           {
            "marker": {
             "colorbar": {
              "outlinewidth": 0,
              "ticks": ""
             }
            },
            "type": "scatterpolargl"
           }
          ],
          "scatterternary": [
           {
            "marker": {
             "colorbar": {
              "outlinewidth": 0,
              "ticks": ""
             }
            },
            "type": "scatterternary"
           }
          ],
          "surface": [
           {
            "colorbar": {
             "outlinewidth": 0,
             "ticks": ""
            },
            "colorscale": [
             [
              0,
              "#0d0887"
             ],
             [
              0.1111111111111111,
              "#46039f"
             ],
             [
              0.2222222222222222,
              "#7201a8"
             ],
             [
              0.3333333333333333,
              "#9c179e"
             ],
             [
              0.4444444444444444,
              "#bd3786"
             ],
             [
              0.5555555555555556,
              "#d8576b"
             ],
             [
              0.6666666666666666,
              "#ed7953"
             ],
             [
              0.7777777777777778,
              "#fb9f3a"
             ],
             [
              0.8888888888888888,
              "#fdca26"
             ],
             [
              1,
              "#f0f921"
             ]
            ],
            "type": "surface"
           }
          ],
          "table": [
           {
            "cells": {
             "fill": {
              "color": "#EBF0F8"
             },
             "line": {
              "color": "white"
             }
            },
            "header": {
             "fill": {
              "color": "#C8D4E3"
             },
             "line": {
              "color": "white"
             }
            },
            "type": "table"
           }
          ]
         },
         "layout": {
          "annotationdefaults": {
           "arrowcolor": "#2a3f5f",
           "arrowhead": 0,
           "arrowwidth": 1
          },
          "autotypenumbers": "strict",
          "coloraxis": {
           "colorbar": {
            "outlinewidth": 0,
            "ticks": ""
           }
          },
          "colorscale": {
           "diverging": [
            [
             0,
             "#8e0152"
            ],
            [
             0.1,
             "#c51b7d"
            ],
            [
             0.2,
             "#de77ae"
            ],
            [
             0.3,
             "#f1b6da"
            ],
            [
             0.4,
             "#fde0ef"
            ],
            [
             0.5,
             "#f7f7f7"
            ],
            [
             0.6,
             "#e6f5d0"
            ],
            [
             0.7,
             "#b8e186"
            ],
            [
             0.8,
             "#7fbc41"
            ],
            [
             0.9,
             "#4d9221"
            ],
            [
             1,
             "#276419"
            ]
           ],
           "sequential": [
            [
             0,
             "#0d0887"
            ],
            [
             0.1111111111111111,
             "#46039f"
            ],
            [
             0.2222222222222222,
             "#7201a8"
            ],
            [
             0.3333333333333333,
             "#9c179e"
            ],
            [
             0.4444444444444444,
             "#bd3786"
            ],
            [
             0.5555555555555556,
             "#d8576b"
            ],
            [
             0.6666666666666666,
             "#ed7953"
            ],
            [
             0.7777777777777778,
             "#fb9f3a"
            ],
            [
             0.8888888888888888,
             "#fdca26"
            ],
            [
             1,
             "#f0f921"
            ]
           ],
           "sequentialminus": [
            [
             0,
             "#0d0887"
            ],
            [
             0.1111111111111111,
             "#46039f"
            ],
            [
             0.2222222222222222,
             "#7201a8"
            ],
            [
             0.3333333333333333,
             "#9c179e"
            ],
            [
             0.4444444444444444,
             "#bd3786"
            ],
            [
             0.5555555555555556,
             "#d8576b"
            ],
            [
             0.6666666666666666,
             "#ed7953"
            ],
            [
             0.7777777777777778,
             "#fb9f3a"
            ],
            [
             0.8888888888888888,
             "#fdca26"
            ],
            [
             1,
             "#f0f921"
            ]
           ]
          },
          "colorway": [
           "#636efa",
           "#EF553B",
           "#00cc96",
           "#ab63fa",
           "#FFA15A",
           "#19d3f3",
           "#FF6692",
           "#B6E880",
           "#FF97FF",
           "#FECB52"
          ],
          "font": {
           "color": "#2a3f5f"
          },
          "geo": {
           "bgcolor": "white",
           "lakecolor": "white",
           "landcolor": "#E5ECF6",
           "showlakes": true,
           "showland": true,
           "subunitcolor": "white"
          },
          "hoverlabel": {
           "align": "left"
          },
          "hovermode": "closest",
          "mapbox": {
           "style": "light"
          },
          "paper_bgcolor": "white",
          "plot_bgcolor": "#E5ECF6",
          "polar": {
           "angularaxis": {
            "gridcolor": "white",
            "linecolor": "white",
            "ticks": ""
           },
           "bgcolor": "#E5ECF6",
           "radialaxis": {
            "gridcolor": "white",
            "linecolor": "white",
            "ticks": ""
           }
          },
          "scene": {
           "xaxis": {
            "backgroundcolor": "#E5ECF6",
            "gridcolor": "white",
            "gridwidth": 2,
            "linecolor": "white",
            "showbackground": true,
            "ticks": "",
            "zerolinecolor": "white"
           },
           "yaxis": {
            "backgroundcolor": "#E5ECF6",
            "gridcolor": "white",
            "gridwidth": 2,
            "linecolor": "white",
            "showbackground": true,
            "ticks": "",
            "zerolinecolor": "white"
           },
           "zaxis": {
            "backgroundcolor": "#E5ECF6",
            "gridcolor": "white",
            "gridwidth": 2,
            "linecolor": "white",
            "showbackground": true,
            "ticks": "",
            "zerolinecolor": "white"
           }
          },
          "shapedefaults": {
           "line": {
            "color": "#2a3f5f"
           }
          },
          "ternary": {
           "aaxis": {
            "gridcolor": "white",
            "linecolor": "white",
            "ticks": ""
           },
           "baxis": {
            "gridcolor": "white",
            "linecolor": "white",
            "ticks": ""
           },
           "bgcolor": "#E5ECF6",
           "caxis": {
            "gridcolor": "white",
            "linecolor": "white",
            "ticks": ""
           }
          },
          "title": {
           "x": 0.05
          },
          "xaxis": {
           "automargin": true,
           "gridcolor": "white",
           "linecolor": "white",
           "ticks": "",
           "title": {
            "standoff": 15
           },
           "zerolinecolor": "white",
           "zerolinewidth": 2
          },
          "yaxis": {
           "automargin": true,
           "gridcolor": "white",
           "linecolor": "white",
           "ticks": "",
           "title": {
            "standoff": 15
           },
           "zerolinecolor": "white",
           "zerolinewidth": 2
          }
         }
        }
       }
      }
     },
     "metadata": {},
     "output_type": "display_data"
    }
   ],
   "source": [
    "first_set.landscape(bias=False,cost_fn=nn.MSELoss())"
   ]
  },
  {
   "cell_type": "code",
   "execution_count": null,
   "metadata": {},
   "outputs": [],
   "source": []
  }
 ],
 "metadata": {
  "kernelspec": {
   "display_name": "sparta",
   "language": "python",
   "name": "python3"
  },
  "language_info": {
   "codemirror_mode": {
    "name": "ipython",
    "version": 3
   },
   "file_extension": ".py",
   "mimetype": "text/x-python",
   "name": "python",
   "nbconvert_exporter": "python",
   "pygments_lexer": "ipython3",
   "version": "3.10.11"
  }
 },
 "nbformat": 4,
 "nbformat_minor": 2
}
