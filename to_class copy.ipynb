{
 "cells": [
  {
   "cell_type": "code",
   "execution_count": 2,
   "metadata": {},
   "outputs": [],
   "source": [
    "import numpy as np \n",
    "import matplotlib.pyplot as plt \n",
    "import plotly.graph_objects as go \n",
    "\n",
    "import torch \n",
    "from torch import nn\n",
    "from sklearn import datasets\n",
    "from sklearn.preprocessing import StandardScaler\n",
    "from sklearn.linear_model import LinearRegression\n",
    "\n",
    "from typing import Optional,Callable"
   ]
  },
  {
   "cell_type": "code",
   "execution_count": 10,
   "metadata": {},
   "outputs": [],
   "source": [
    "class Data:\n",
    "\n",
    "  def __init__(self,X1:torch.Tensor,\n",
    "               y :torch.Tensor,\n",
    "               X2:Optional[torch.Tensor]= None,\n",
    "               bias:Optional[torch.Tensor]= None,\n",
    "               n_samples = 20):\n",
    "    \n",
    "    self.X1 = torch.tensor(X1).flatten()\n",
    "    self.y  = torch.tensor(y).flatten()\n",
    "    self.X2 = torch.tensor(X2) if X2 is not None else None\n",
    "    self.bias = torch.tensor(bias) if bias is not None else None\n",
    "    self.n_samples = n_samples\n",
    "\n",
    "\n",
    "    self.ONE_FEATURE  = (self.X2 is None) and (self.bias is None)\n",
    "    self.TWO_FEATURES = (self.X2 is not None) and (self.bias is None)\n",
    "    self.BIAS = (self.X2 is None) and (self.bias is not None)\n",
    "\n",
    "#----------------------------------------------------------------------------------------------------------------PLOT DATA------------METHOD 1--------\n",
    "  def plot_data(self):\n",
    "#---------------------------ONE FEATURES--------------------\n",
    "    if self.ONE_FEATURE:\n",
    "      plot = go.Scatter(\n",
    "        x = self.X1,\n",
    "        y = self.y,\n",
    "        mode = 'markers',\n",
    "        name = 'Data')\n",
    "      \n",
    "      layout = go.Layout(\n",
    "        title='Single Feature Regression Plot',\n",
    "        xaxis=dict(title='X1',zeroline = True,zerolinewidth = 2,zerolinecolor = 'rgba(205, 200, 193, 0.7)'),\n",
    "        yaxis=dict(title='Y',zeroline = True,zerolinewidth = 2,zerolinecolor = 'rgba(205, 200, 193, 0.7)') ,\n",
    "        hovermode='closest')\n",
    "      \n",
    "\n",
    "  #-----------TWO FEATURES--------\n",
    "    if self.TWO_FEATURES:\n",
    "      plot = go.Scatter3d(\n",
    "        x = self.X1,\n",
    "        y = self.X2,\n",
    "        z = self.y,\n",
    "        mode = 'markers')\n",
    "\n",
    "      layout = go.Layout(\n",
    "              title='Two Features Regression Plot',\n",
    "              scene=dict(\n",
    "                  xaxis_title='X1',\n",
    "                  yaxis_title='X2',\n",
    "                  zaxis_title='Y'\n",
    "              ),hovermode='closest')\n",
    "\n",
    "  \n",
    "#-------------ONE FEATURE AND A BIAS------------------\n",
    "    if self.BIAS:\n",
    "      plot = go.Scatter(\n",
    "          x = self.X1,\n",
    "          y = self.y,\n",
    "          mode = 'markers')\n",
    "\n",
    "      layout = go.Layout(\n",
    "        title='Single Feature Regression Plot',\n",
    "        xaxis=dict(title='X1',zeroline = True,zerolinewidth = 2,zerolinecolor = 'rgba(205, 200, 193, 0.7)'),\n",
    "        yaxis=dict(title='Y',zeroline = True,zerolinewidth = 2,zerolinecolor = 'rgba(205, 200, 193, 0.7)'),\n",
    "        hovermode='closest')\n",
    "\n",
    "\n",
    "    return plot,layout\n",
    "  \n",
    "\n",
    "#----------------------------------------------------------------------------------------------------------------LOSS LANDSCAPE------------METHOD 2--------\n",
    "  def landscape(self,cost_fn = nn.MSELoss(),coef_1 = 10,coef_2 =10):\n",
    "    '''cost_fn : choosing the loss function.\n",
    "       coef_1  : provide w1, so the landscape can capture the sweet spot, right of the sweet spot, and left of the sweet spot.\n",
    "       coef_2  : provide w2, same logic as the above'''\n",
    "\n",
    "\n",
    "    #-------------------------------------ONE FEATURES-----------------------------------\n",
    "    if self.ONE_FEATURE:\n",
    "\n",
    "      w1_range = torch.linspace(coef_1-10,coef_1+10,self.n_samples)\n",
    "      COST = []\n",
    "      for w1 in w1_range:\n",
    "         pred = self.X1*w1\n",
    "         cost = cost_fn(pred,self.y)\n",
    "         COST.append(cost.item())\n",
    "\n",
    "      landscape = go.Scatter(\n",
    "        x = w1_range,\n",
    "        y = COST,\n",
    "        mode = 'lines'\n",
    "      )\n",
    "\n",
    "      layout = go.Layout(\n",
    "              title='Loss Landscape',\n",
    "              xaxis=dict(title='w',zeroline = True,zerolinewidth = 2,zerolinecolor = 'rgba(205, 200, 193, 0.7)'),\n",
    "              yaxis=dict(title='Loss',zeroline = True,zerolinewidth = 2,zerolinecolor = 'rgba(205, 200, 193, 0.7)'),\n",
    "              hovermode='closest')\n",
    "\n",
    "    \n",
    "    #-------------------------------------TWO FEATURES-----------------------------------\n",
    "    if self.TWO_FEATURES:\n",
    "      w1_m,w2_m = torch.meshgrid(torch.linspace(coef_1-10,coef_1+10,self.n_samples ),torch.linspace(coef_2-10,coef_2+10,self.n_samples ),indexing='ij')\n",
    "      w1_f,w2_f = w1_m.flatten() , w2_m.flatten()\n",
    "\n",
    "      COST = []\n",
    "      for w1,w2 in zip(w1_f,w2_f):\n",
    "        pred = (w1*self.X1) + (w2*self.X2)\n",
    "        cost = cost_fn(pred,self.y)\n",
    "        COST.append(cost.item())\n",
    "      COST = torch.tensor(COST).view(self.n_samples ,self.n_samples )\n",
    "\n",
    "      landscape = go.Surface(\n",
    "        x = w1_m,\n",
    "        y = w2_m,\n",
    "        z = COST,\n",
    "        name = 'Loss'\n",
    "      )\n",
    "\n",
    "      layout = go.Layout(scene = dict(\n",
    "            dict( \n",
    "               xaxis = dict(\n",
    "                  title = 'w1',\n",
    "                  zeroline = True,\n",
    "                  zerolinewidth = 2,\n",
    "                  zerolinecolor = 'rgba(205, 200, 193, 0.7)'),\n",
    "                yaxis = dict(\n",
    "                  title = 'w2',\n",
    "                  zeroline = True,\n",
    "                  zerolinewidth = 2,\n",
    "                  zerolinecolor = 'rgba(205, 200, 193, 0.7)' ),\n",
    "                zaxis = dict(\n",
    "                  title = 'Loss',\n",
    "                  zeroline = True,\n",
    "                  zerolinewidth = 2,\n",
    "                  zerolinecolor = 'rgba(205, 200, 193, 0.7)' )\n",
    "                  )))\n",
    "\n",
    "    # -------------------------------------ONE FEATURE AND BIAS-----------------------------------\n",
    "    if self.BIAS:\n",
    "\n",
    "      w1_m,b_m = torch.meshgrid(torch.linspace(coef_1-10,coef_1+10,self.n_samples ),torch.linspace(self.bias-10,self.bias+10,self.n_samples),indexing='ij')\n",
    "      w1_f,b_f = w1_m.flatten() , b_m.flatten()\n",
    "\n",
    "      COST = []\n",
    "      for w1,b in zip(w1_f,b_f):\n",
    "        pred = (w1*self.X1) + b\n",
    "        cost = cost_fn(pred,self.y)\n",
    "        COST.append(cost.item())\n",
    "      COST = torch.tensor(COST).view(self.n_samples ,self.n_samples )\n",
    "\n",
    "      landscape = go.Surface(\n",
    "        x = w1_m,\n",
    "        y = b_m,\n",
    "        z = COST,\n",
    "      )\n",
    "\n",
    "      layout = go.Layout(\n",
    "            dict( scene = dict(\n",
    "               xaxis = dict(\n",
    "                  title = 'w',\n",
    "                  zeroline = True,\n",
    "                  zerolinewidth = 2,\n",
    "                  zerolinecolor = 'rgba(205, 200, 193, 0.7)'),\n",
    "                yaxis = dict(\n",
    "                  title = 'b',\n",
    "                  zeroline = True,\n",
    "                  zerolinewidth = 2,\n",
    "                  zerolinecolor = 'rgba(205, 200, 193, 0.7)' ),\n",
    "                zaxis = dict(\n",
    "                  title = 'Loss',\n",
    "                  zeroline = True,\n",
    "                  zerolinewidth = 2,\n",
    "                  zerolinecolor = 'rgba(205, 200, 193, 0.7)' )\n",
    "                  )))\n",
    "\n",
    "    figure = go.Figure(data=[landscape],layout=layout)\n",
    "    return figure\n",
    "  \n",
    "#----------------------------------------------------------------------------------------------------------------PLOT MODEL------------METHOD 3--------\n",
    "\n",
    "  def fit_model(self,weight_1 = 3.):\n",
    "\n",
    "    if self.ONE_FEATURE :\n",
    "      plot_fit_model = go.Scatter(\n",
    "        x = self.X1,\n",
    "        y = self.X1*weight_1,\n",
    "        mode = 'lines',\n",
    "        name = 'model'\n",
    "      )\n",
    "\n",
    "\n",
    "    return plot_fit_model\n",
    "  \n",
    "\n",
    "#----------------------------------------------------------------------------------------------------------------CONTAINER------------METHOD 4--------\n",
    "\n",
    "  def plot_container(self):\n",
    "    data,data_layout = self.plot_data()\n",
    "    fit_model = self.fit_model(weight_1 = 10.)\n",
    "    \n",
    "    figure = go.Figure(data=[data,fit_model],layout=data_layout)\n",
    "\n",
    "    return figure\n",
    "\n",
    "\n",
    "  \n",
    "  \n",
    "\n"
   ]
  },
  {
   "cell_type": "code",
   "execution_count": 11,
   "metadata": {},
   "outputs": [
    {
     "name": "stdout",
     "output_type": "stream",
     "text": [
      "(20, 1)\n",
      "(20,)\n",
      "83.26779012423697\n"
     ]
    }
   ],
   "source": [
    "X,y,coef = datasets.make_regression(n_features=1,n_samples=20,coef=True,noise=2,bias=0)\n",
    "\n",
    "\n",
    "# stand_scale = StandardScaler()\n",
    "# X = stand_scale.fit_transform(X)\n",
    "# y = stand_scale.fit_transform(y.reshape(-1,1))\n",
    "\n",
    "print(X.shape)\n",
    "print(y.shape)\n",
    "print(coef)\n",
    "# print(coef[1])\n"
   ]
  },
  {
   "cell_type": "code",
   "execution_count": 12,
   "metadata": {},
   "outputs": [
    {
     "data": {
      "text/plain": [
       "<matplotlib.collections.PathCollection at 0x174d7b130>"
      ]
     },
     "execution_count": 12,
     "metadata": {},
     "output_type": "execute_result"
    },
    {
     "data": {
      "image/png": "[encoded data removed]",
      "text/plain": [
       "<Figure size 640x480 with 1 Axes>"
      ]
     },
     "metadata": {},
     "output_type": "display_data"
    }
   ],
   "source": [
    "plt.scatter(X,y)"
   ]
  },
  {
   "cell_type": "code",
   "execution_count": 13,
   "metadata": {},
   "outputs": [
    {
     "data": {
      "text/plain": [
       "tensor(83)"
      ]
     },
     "execution_count": 13,
     "metadata": {},
     "output_type": "execute_result"
    }
   ],
   "source": [
    "coef_tensor = torch.tensor(coef,dtype=torch.long)\n",
    "coef_tensor"
   ]
  },
  {
   "cell_type": "code",
   "execution_count": 14,
   "metadata": {},
   "outputs": [],
   "source": [
    "first_set = Data(X,y,)"
   ]
  },
  {
   "cell_type": "code",
   "execution_count": 15,
   "metadata": {},
   "outputs": [
    {
     "data": {
      "application/vnd.plotly.v1+json": {
       "config": {
        "plotlyServerURL": "https://plot.ly"
       },
       "data": [
        {
         "mode": "markers",
         "name": "Data",
         "type": "scatter",
         "x": [
          0.9738224863786965,
          -0.24595958637767665,
          -0.03154542650895249,
          -0.3234813207936956,
          -0.934302055374927,
          1.0882903167585665,
          -0.0037578814106938286,
          0.9140898158780738,
          0.9119884173235546,
          -0.9932530121690085,
          1.4912942873961557,
          -2.325293303587639,
          1.543014189713007,
          0.3039342587348611,
          0.007691601946333773,
          -1.5738324624693087,
          1.5136181915818507,
          1.252393068661967,
          0.78751166078613,
          2.1635256116901127
         ],
         "y": [
          80.30307418707008,
          -21.5838886350111,
          -4.630510327075472,
          -28.889832870496903,
          -75.16984551111616,
          89.60318139445657,
          0.4375346875478056,
          77.05622649392198,
          78.84160484520021,
          -82.33319491181173,
          121.79544397730864,
          -193.39579211496354,
          126.39993028524431,
          26.883126982067882,
          3.014403459163298,
          -128.8354801184331,
          125.52294758616513,
          106.46069311910145,
          63.336699378352925,
          182.67797806329045
         ]
        },
        {
         "mode": "lines",
         "name": "model",
         "type": "scatter",
         "x": [
          0.9738224863786965,
          -0.24595958637767665,
          -0.03154542650895249,
          -0.3234813207936956,
          -0.934302055374927,
          1.0882903167585665,
          -0.0037578814106938286,
          0.9140898158780738,
          0.9119884173235546,
          -0.9932530121690085,
          1.4912942873961557,
          -2.325293303587639,
          1.543014189713007,
          0.3039342587348611,
          0.007691601946333773,
          -1.5738324624693087,
          1.5136181915818507,
          1.252393068661967,
          0.78751166078613,
          2.1635256116901127
         ],
         "y": [
          9.738224863786964,
          -2.4595958637767663,
          -0.3154542650895249,
          -3.2348132079369565,
          -9.34302055374927,
          10.882903167585665,
          -0.03757881410693829,
          9.140898158780738,
          9.119884173235546,
          -9.932530121690085,
          14.912942873961557,
          -23.25293303587639,
          15.43014189713007,
          3.0393425873486106,
          0.07691601946333773,
          -15.738324624693087,
          15.136181915818508,
          12.523930686619671,
          7.8751166078613,
          21.635256116901125
         ]
        }
       ],
       "layout": {
        "hovermode": "closest",
        "template": {
         "data": {
          "bar": [
           {
            "error_x": {
             "color": "#2a3f5f"
            },
            "error_y": {
             "color": "#2a3f5f"
            },
            "marker": {
             "line": {
              "color": "#E5ECF6",
              "width": 0.5
             },
             "pattern": {
              "fillmode": "overlay",
              "size": 10,
              "solidity": 0.2
             }
            },
            "type": "bar"
           }
          ],
          "barpolar": [
           {
            "marker": {
             "line": {
              "color": "#E5ECF6",
              "width": 0.5
             },
             "pattern": {
              "fillmode": "overlay",
              "size": 10,
              "solidity": 0.2
             }
            },
            "type": "barpolar"
           }
          ],
          "carpet": [
           {
            "aaxis": {
             "endlinecolor": "#2a3f5f",
             "gridcolor": "white",
             "linecolor": "white",
             "minorgridcolor": "white",
             "startlinecolor": "#2a3f5f"
            },
            "baxis": {
             "endlinecolor": "#2a3f5f",
             "gridcolor": "white",
             "linecolor": "white",
             "minorgridcolor": "white",
             "startlinecolor": "#2a3f5f"
            },
            "type": "carpet"
           }
          ],
          "choropleth": [
           {
            "colorbar": {
             "outlinewidth": 0,
             "ticks": ""
            },
            "type": "choropleth"
           }
          ],
          "contour": [
           {
            "colorbar": {
             "outlinewidth": 0,
             "ticks": ""
            },
            "colorscale": [
             [
              0,
              "#0d0887"
             ],
             [
              0.1111111111111111,
              "#46039f"
             ],
             [
              0.2222222222222222,
              "#7201a8"
             ],
             [
              0.3333333333333333,
              "#9c179e"
             ],
             [
              0.4444444444444444,
              "#bd3786"
             ],
             [
              0.5555555555555556,
              "#d8576b"
             ],
             [
              0.6666666666666666,
              "#ed7953"
             ],
             [
              0.7777777777777778,
              "#fb9f3a"
             ],
             [
              0.8888888888888888,
              "#fdca26"
             ],
             [
              1,
              "#f0f921"
             ]
            ],
            "type": "contour"
           }
          ],
          "contourcarpet": [
           {
            "colorbar": {
             "outlinewidth": 0,
             "ticks": ""
            },
            "type": "contourcarpet"
           }
          ],
          "heatmap": [
           {
            "colorbar": {
             "outlinewidth": 0,
             "ticks": ""
            },
            "colorscale": [
             [
              0,
              "#0d0887"
             ],
             [
              0.1111111111111111,
              "#46039f"
             ],
             [
              0.2222222222222222,
              "#7201a8"
             ],
             [
              0.3333333333333333,
              "#9c179e"
             ],
             [
              0.4444444444444444,
              "#bd3786"
             ],
             [
              0.5555555555555556,
              "#d8576b"
             ],
             [
              0.6666666666666666,
              "#ed7953"
             ],
             [
              0.7777777777777778,
              "#fb9f3a"
             ],
             [
              0.8888888888888888,
              "#fdca26"
             ],
             [
              1,
              "#f0f921"
             ]
            ],
            "type": "heatmap"
           }
          ],
          "heatmapgl": [
           {
            "colorbar": {
             "outlinewidth": 0,
             "ticks": ""
            },
            "colorscale": [
             [
              0,
              "#0d0887"
             ],
             [
              0.1111111111111111,
              "#46039f"
             ],
             [
              0.2222222222222222,
              "#7201a8"
             ],
             [
              0.3333333333333333,
              "#9c179e"
             ],
             [
              0.4444444444444444,
              "#bd3786"
             ],
             [
              0.5555555555555556,
              "#d8576b"
             ],
             [
              0.6666666666666666,
              "#ed7953"
             ],
             [
              0.7777777777777778,
              "#fb9f3a"
             ],
             [
              0.8888888888888888,
              "#fdca26"
             ],
             [
              1,
              "#f0f921"
             ]
            ],
            "type": "heatmapgl"
           }
          ],
          "histogram": [
           {
            "marker": {
             "pattern": {
              "fillmode": "overlay",
              "size": 10,
              "solidity": 0.2
             }
            },
            "type": "histogram"
           }
          ],
          "histogram2d": [
           {
            "colorbar": {
             "outlinewidth": 0,
             "ticks": ""
            },
            "colorscale": [
             [
              0,
              "#0d0887"
             ],
             [
              0.1111111111111111,
              "#46039f"
             ],
             [
              0.2222222222222222,
              "#7201a8"
             ],
             [
              0.3333333333333333,
              "#9c179e"
             ],
             [
              0.4444444444444444,
              "#bd3786"
             ],
             [
              0.5555555555555556,
              "#d8576b"
             ],
             [
              0.6666666666666666,
              "#ed7953"
             ],
             [
              0.7777777777777778,
              "#fb9f3a"
             ],
             [
              0.8888888888888888,
              "#fdca26"
             ],
             [
              1,
              "#f0f921"
             ]
            ],
            "type": "histogram2d"
           }
          ],
          "histogram2dcontour": [
           {
            "colorbar": {
             "outlinewidth": 0,
             "ticks": ""
            },
            "colorscale": [
             [
              0,
              "#0d0887"
             ],
             [
              0.1111111111111111,
              "#46039f"
             ],
             [
              0.2222222222222222,
              "#7201a8"
             ],
             [
              0.3333333333333333,
              "#9c179e"
             ],
             [
              0.4444444444444444,
              "#bd3786"
             ],
             [
              0.5555555555555556,
              "#d8576b"
             ],
             [
              0.6666666666666666,
              "#ed7953"
             ],
             [
              0.7777777777777778,
              "#fb9f3a"
             ],
             [
              0.8888888888888888,
              "#fdca26"
             ],
             [
              1,
              "#f0f921"
             ]
            ],
            "type": "histogram2dcontour"
           }
          ],
          "mesh3d": [
           {
            "colorbar": {
             "outlinewidth": 0,
             "ticks": ""
            },
            "type": "mesh3d"
           }
          ],
          "parcoords": [
           {
            "line": {
             "colorbar": {
              "outlinewidth": 0,
              "ticks": ""
             }
            },
            "type": "parcoords"
           }
          ],
          "pie": [
           {
            "automargin": true,
            "type": "pie"
           }
          ],
          "scatter": [
           {
            "fillpattern": {
             "fillmode": "overlay",
             "size": 10,
             "solidity": 0.2
            },
            "type": "scatter"
           }
          ],
          "scatter3d": [
           {
            "line": {
             "colorbar": {
              "outlinewidth": 0,
              "ticks": ""
             }
            },
            "marker": {
             "colorbar": {
              "outlinewidth": 0,
              "ticks": ""
             }
            },
            "type": "scatter3d"
           }
          ],
          "scattercarpet": [
           {
            "marker": {
             "colorbar": {
              "outlinewidth": 0,
              "ticks": ""
             }
            },
            "type": "scattercarpet"
           }
          ],
          "scattergeo": [
           {
            "marker": {
             "colorbar": {
              "outlinewidth": 0,
              "ticks": ""
             }
            },
            "type": "scattergeo"
           }
          ],
          "scattergl": [
           {
            "marker": {
             "colorbar": {
              "outlinewidth": 0,
              "ticks": ""
             }
            },
            "type": "scattergl"
           }
          ],
          "scattermapbox": [
           {
            "marker": {
             "colorbar": {
              "outlinewidth": 0,
              "ticks": ""
             }
            },
            "type": "scattermapbox"
           }
          ],
          "scatterpolar": [
           {
            "marker": {
             "colorbar": {
              "outlinewidth": 0,
              "ticks": ""
             }
            },
            "type": "scatterpolar"
           }
          ],
          "scatterpolargl": [
           {
            "marker": {
             "colorbar": {
              "outlinewidth": 0,
              "ticks": ""
             }
            },
            "type": "scatterpolargl"
           }
          ],
          "scatterternary": [
           {
            "marker": {
             "colorbar": {
              "outlinewidth": 0,
              "ticks": ""
             }
            },
            "type": "scatterternary"
           }
          ],
          "surface": [
           {
            "colorbar": {
             "outlinewidth": 0,
             "ticks": ""
            },
            "colorscale": [
             [
              0,
              "#0d0887"
             ],
             [
              0.1111111111111111,
              "#46039f"
             ],
             [
              0.2222222222222222,
              "#7201a8"
             ],
             [
              0.3333333333333333,
              "#9c179e"
             ],
             [
              0.4444444444444444,
              "#bd3786"
             ],
             [
              0.5555555555555556,
              "#d8576b"
             ],
             [
              0.6666666666666666,
              "#ed7953"
             ],
             [
              0.7777777777777778,
              "#fb9f3a"
             ],
             [
              0.8888888888888888,
              "#fdca26"
             ],
             [
              1,
              "#f0f921"
             ]
            ],
            "type": "surface"
           }
          ],
          "table": [
           {
            "cells": {
             "fill": {
              "color": "#EBF0F8"
             },
             "line": {
              "color": "white"
             }
            },
            "header": {
             "fill": {
              "color": "#C8D4E3"
             },
             "line": {
              "color": "white"
             }
            },
            "type": "table"
           }
          ]
         },
         "layout": {
          "annotationdefaults": {
           "arrowcolor": "#2a3f5f",
           "arrowhead": 0,
           "arrowwidth": 1
          },
          "autotypenumbers": "strict",
          "coloraxis": {
           "colorbar": {
            "outlinewidth": 0,
            "ticks": ""
           }
          },
          "colorscale": {
           "diverging": [
            [
             0,
             "#8e0152"
            ],
            [
             0.1,
             "#c51b7d"
            ],
            [
             0.2,
             "#de77ae"
            ],
            [
             0.3,
             "#f1b6da"
            ],
            [
             0.4,
             "#fde0ef"
            ],
            [
             0.5,
             "#f7f7f7"
            ],
            [
             0.6,
             "#e6f5d0"
            ],
            [
             0.7,
             "#b8e186"
            ],
            [
             0.8,
             "#7fbc41"
            ],
            [
             0.9,
             "#4d9221"
            ],
            [
             1,
             "#276419"
            ]
           ],
           "sequential": [
            [
             0,
             "#0d0887"
            ],
            [
             0.1111111111111111,
             "#46039f"
            ],
            [
             0.2222222222222222,
             "#7201a8"
            ],
            [
             0.3333333333333333,
             "#9c179e"
            ],
            [
             0.4444444444444444,
             "#bd3786"
            ],
            [
             0.5555555555555556,
             "#d8576b"
            ],
            [
             0.6666666666666666,
             "#ed7953"
            ],
            [
             0.7777777777777778,
             "#fb9f3a"
            ],
            [
             0.8888888888888888,
             "#fdca26"
            ],
            [
             1,
             "#f0f921"
            ]
           ],
           "sequentialminus": [
            [
             0,
             "#0d0887"
            ],
            [
             0.1111111111111111,
             "#46039f"
            ],
            [
             0.2222222222222222,
             "#7201a8"
            ],
            [
             0.3333333333333333,
             "#9c179e"
            ],
            [
             0.4444444444444444,
             "#bd3786"
            ],
            [
             0.5555555555555556,
             "#d8576b"
            ],
            [
             0.6666666666666666,
             "#ed7953"
            ],
            [
             0.7777777777777778,
             "#fb9f3a"
            ],
            [
             0.8888888888888888,
             "#fdca26"
            ],
            [
             1,
             "#f0f921"
            ]
           ]
          },
          "colorway": [
           "#636efa",
           "#EF553B",
           "#00cc96",
           "#ab63fa",
           "#FFA15A",
           "#19d3f3",
           "#FF6692",
           "#B6E880",
           "#FF97FF",
           "#FECB52"
          ],
          "font": {
           "color": "#2a3f5f"
          },
          "geo": {
           "bgcolor": "white",
           "lakecolor": "white",
           "landcolor": "#E5ECF6",
           "showlakes": true,
           "showland": true,
           "subunitcolor": "white"
          },
          "hoverlabel": {
           "align": "left"
          },
          "hovermode": "closest",
          "mapbox": {
           "style": "light"
          },
          "paper_bgcolor": "white",
          "plot_bgcolor": "#E5ECF6",
          "polar": {
           "angularaxis": {
            "gridcolor": "white",
            "linecolor": "white",
            "ticks": ""
           },
           "bgcolor": "#E5ECF6",
           "radialaxis": {
            "gridcolor": "white",
            "linecolor": "white",
            "ticks": ""
           }
          },
          "scene": {
           "xaxis": {
            "backgroundcolor": "#E5ECF6",
            "gridcolor": "white",
            "gridwidth": 2,
            "linecolor": "white",
            "showbackground": true,
            "ticks": "",
            "zerolinecolor": "white"
           },
           "yaxis": {
            "backgroundcolor": "#E5ECF6",
            "gridcolor": "white",
            "gridwidth": 2,
            "linecolor": "white",
            "showbackground": true,
            "ticks": "",
            "zerolinecolor": "white"
           },
           "zaxis": {
            "backgroundcolor": "#E5ECF6",
            "gridcolor": "white",
            "gridwidth": 2,
            "linecolor": "white",
            "showbackground": true,
            "ticks": "",
            "zerolinecolor": "white"
           }
          },
          "shapedefaults": {
           "line": {
            "color": "#2a3f5f"
           }
          },
          "ternary": {
           "aaxis": {
            "gridcolor": "white",
            "linecolor": "white",
            "ticks": ""
           },
           "baxis": {
            "gridcolor": "white",
            "linecolor": "white",
            "ticks": ""
           },
           "bgcolor": "#E5ECF6",
           "caxis": {
            "gridcolor": "white",
            "linecolor": "white",
            "ticks": ""
           }
          },
          "title": {
           "x": 0.05
          },
          "xaxis": {
           "automargin": true,
           "gridcolor": "white",
           "linecolor": "white",
           "ticks": "",
           "title": {
            "standoff": 15
           },
           "zerolinecolor": "white",
           "zerolinewidth": 2
          },
          "yaxis": {
           "automargin": true,
           "gridcolor": "white",
           "linecolor": "white",
           "ticks": "",
           "title": {
            "standoff": 15
           },
           "zerolinecolor": "white",
           "zerolinewidth": 2
          }
         }
        },
        "title": {
         "text": "Single Feature Regression Plot"
        },
        "xaxis": {
         "title": {
          "text": "X1"
         },
         "zeroline": true,
         "zerolinecolor": "rgba(205, 200, 193, 0.7)",
         "zerolinewidth": 2
        },
        "yaxis": {
         "title": {
          "text": "Y"
         },
         "zeroline": true,
         "zerolinecolor": "rgba(205, 200, 193, 0.7)",
         "zerolinewidth": 2
        }
       }
      }
     },
     "metadata": {},
     "output_type": "display_data"
    }
   ],
   "source": [
    "first_set.plot_container()\n"
   ]
  },
  {
   "cell_type": "code",
   "execution_count": 16,
   "metadata": {},
   "outputs": [
    {
     "data": {
      "application/vnd.plotly.v1+json": {
       "config": {
        "plotlyServerURL": "https://plot.ly"
       },
       "data": [
        {
         "mode": "lines",
         "type": "scatter",
         "x": [
          73,
          74.0526351928711,
          75.10526275634766,
          76.15789794921875,
          77.21052551269531,
          78.2631607055664,
          79.31578826904297,
          80.36842346191406,
          81.42105102539062,
          82.47368621826172,
          83.52631378173828,
          84.57894897460938,
          85.63157653808594,
          86.68421173095703,
          87.7368392944336,
          88.78947448730469,
          89.84210205078125,
          90.89473724365234,
          91.9473648071289,
          93
         ],
         "y": [
          143.69199083985083,
          115.9343849336864,
          91.23152496639013,
          69.58305284765297,
          50.98928238939366,
          35.44994405808386,
          22.96526310886159,
          13.535058564979062,
          7.159467124793818,
          3.8383963683385907,
          3.571894437190365,
          6.35995746816246,
          12.202545046051231,
          21.099741864450664,
          33.05141895137647,
          48.057749557203145,
          66.11851615316593,
          87.23398054642001,
          111.40383665141982,
          138.62843483210114
         ]
        }
       ],
       "layout": {
        "hovermode": "closest",
        "template": {
         "data": {
          "bar": [
           {
            "error_x": {
             "color": "#2a3f5f"
            },
            "error_y": {
             "color": "#2a3f5f"
            },
            "marker": {
             "line": {
              "color": "#E5ECF6",
              "width": 0.5
             },
             "pattern": {
              "fillmode": "overlay",
              "size": 10,
              "solidity": 0.2
             }
            },
            "type": "bar"
           }
          ],
          "barpolar": [
           {
            "marker": {
             "line": {
              "color": "#E5ECF6",
              "width": 0.5
             },
             "pattern": {
              "fillmode": "overlay",
              "size": 10,
              "solidity": 0.2
             }
            },
            "type": "barpolar"
           }
          ],
          "carpet": [
           {
            "aaxis": {
             "endlinecolor": "#2a3f5f",
             "gridcolor": "white",
             "linecolor": "white",
             "minorgridcolor": "white",
             "startlinecolor": "#2a3f5f"
            },
            "baxis": {
             "endlinecolor": "#2a3f5f",
             "gridcolor": "white",
             "linecolor": "white",
             "minorgridcolor": "white",
             "startlinecolor": "#2a3f5f"
            },
            "type": "carpet"
           }
          ],
          "choropleth": [
           {
            "colorbar": {
             "outlinewidth": 0,
             "ticks": ""
            },
            "type": "choropleth"
           }
          ],
          "contour": [
           {
            "colorbar": {
             "outlinewidth": 0,
             "ticks": ""
            },
            "colorscale": [
             [
              0,
              "#0d0887"
             ],
             [
              0.1111111111111111,
              "#46039f"
             ],
             [
              0.2222222222222222,
              "#7201a8"
             ],
             [
              0.3333333333333333,
              "#9c179e"
             ],
             [
              0.4444444444444444,
              "#bd3786"
             ],
             [
              0.5555555555555556,
              "#d8576b"
             ],
             [
              0.6666666666666666,
              "#ed7953"
             ],
             [
              0.7777777777777778,
              "#fb9f3a"
             ],
             [
              0.8888888888888888,
              "#fdca26"
             ],
             [
              1,
              "#f0f921"
             ]
            ],
            "type": "contour"
           }
          ],
          "contourcarpet": [
           {
            "colorbar": {
             "outlinewidth": 0,
             "ticks": ""
            },
            "type": "contourcarpet"
           }
          ],
          "heatmap": [
           {
            "colorbar": {
             "outlinewidth": 0,
             "ticks": ""
            },
            "colorscale": [
             [
              0,
              "#0d0887"
             ],
             [
              0.1111111111111111,
              "#46039f"
             ],
             [
              0.2222222222222222,
              "#7201a8"
             ],
             [
              0.3333333333333333,
              "#9c179e"
             ],
             [
              0.4444444444444444,
              "#bd3786"
             ],
             [
              0.5555555555555556,
              "#d8576b"
             ],
             [
              0.6666666666666666,
              "#ed7953"
             ],
             [
              0.7777777777777778,
              "#fb9f3a"
             ],
             [
              0.8888888888888888,
              "#fdca26"
             ],
             [
              1,
              "#f0f921"
             ]
            ],
            "type": "heatmap"
           }
          ],
          "heatmapgl": [
           {
            "colorbar": {
             "outlinewidth": 0,
             "ticks": ""
            },
            "colorscale": [
             [
              0,
              "#0d0887"
             ],
             [
              0.1111111111111111,
              "#46039f"
             ],
             [
              0.2222222222222222,
              "#7201a8"
             ],
             [
              0.3333333333333333,
              "#9c179e"
             ],
             [
              0.4444444444444444,
              "#bd3786"
             ],
             [
              0.5555555555555556,
              "#d8576b"
             ],
             [
              0.6666666666666666,
              "#ed7953"
             ],
             [
              0.7777777777777778,
              "#fb9f3a"
             ],
             [
              0.8888888888888888,
              "#fdca26"
             ],
             [
              1,
              "#f0f921"
             ]
            ],
            "type": "heatmapgl"
           }
          ],
          "histogram": [
           {
            "marker": {
             "pattern": {
              "fillmode": "overlay",
              "size": 10,
              "solidity": 0.2
             }
            },
            "type": "histogram"
           }
          ],
          "histogram2d": [
           {
            "colorbar": {
             "outlinewidth": 0,
             "ticks": ""
            },
            "colorscale": [
             [
              0,
              "#0d0887"
             ],
             [
              0.1111111111111111,
              "#46039f"
             ],
             [
              0.2222222222222222,
              "#7201a8"
             ],
             [
              0.3333333333333333,
              "#9c179e"
             ],
             [
              0.4444444444444444,
              "#bd3786"
             ],
             [
              0.5555555555555556,
              "#d8576b"
             ],
             [
              0.6666666666666666,
              "#ed7953"
             ],
             [
              0.7777777777777778,
              "#fb9f3a"
             ],
             [
              0.8888888888888888,
              "#fdca26"
             ],
             [
              1,
              "#f0f921"
             ]
            ],
            "type": "histogram2d"
           }
          ],
          "histogram2dcontour": [
           {
            "colorbar": {
             "outlinewidth": 0,
             "ticks": ""
            },
            "colorscale": [
             [
              0,
              "#0d0887"
             ],
             [
              0.1111111111111111,
              "#46039f"
             ],
             [
              0.2222222222222222,
              "#7201a8"
             ],
             [
              0.3333333333333333,
              "#9c179e"
             ],
             [
              0.4444444444444444,
              "#bd3786"
             ],
             [
              0.5555555555555556,
              "#d8576b"
             ],
             [
              0.6666666666666666,
              "#ed7953"
             ],
             [
              0.7777777777777778,
              "#fb9f3a"
             ],
             [
              0.8888888888888888,
              "#fdca26"
             ],
             [
              1,
              "#f0f921"
             ]
            ],
            "type": "histogram2dcontour"
           }
          ],
          "mesh3d": [
           {
            "colorbar": {
             "outlinewidth": 0,
             "ticks": ""
            },
            "type": "mesh3d"
           }
          ],
          "parcoords": [
           {
            "line": {
             "colorbar": {
              "outlinewidth": 0,
              "ticks": ""
             }
            },
            "type": "parcoords"
           }
          ],
          "pie": [
           {
            "automargin": true,
            "type": "pie"
           }
          ],
          "scatter": [
           {
            "fillpattern": {
             "fillmode": "overlay",
             "size": 10,
             "solidity": 0.2
            },
            "type": "scatter"
           }
          ],
          "scatter3d": [
           {
            "line": {
             "colorbar": {
              "outlinewidth": 0,
              "ticks": ""
             }
            },
            "marker": {
             "colorbar": {
              "outlinewidth": 0,
              "ticks": ""
             }
            },
            "type": "scatter3d"
           }
          ],
          "scattercarpet": [
           {
            "marker": {
             "colorbar": {
              "outlinewidth": 0,
              "ticks": ""
             }
            },
            "type": "scattercarpet"
           }
          ],
          "scattergeo": [
           {
            "marker": {
             "colorbar": {
              "outlinewidth": 0,
              "ticks": ""
             }
            },
            "type": "scattergeo"
           }
          ],
          "scattergl": [
           {
            "marker": {
             "colorbar": {
              "outlinewidth": 0,
              "ticks": ""
             }
            },
            "type": "scattergl"
           }
          ],
          "scattermapbox": [
           {
            "marker": {
             "colorbar": {
              "outlinewidth": 0,
              "ticks": ""
             }
            },
            "type": "scattermapbox"
           }
          ],
          "scatterpolar": [
           {
            "marker": {
             "colorbar": {
              "outlinewidth": 0,
              "ticks": ""
             }
            },
            "type": "scatterpolar"
           }
          ],
          "scatterpolargl": [
           {
            "marker": {
             "colorbar": {
              "outlinewidth": 0,
              "ticks": ""
             }
            },
            "type": "scatterpolargl"
           }
          ],
          "scatterternary": [
           {
            "marker": {
             "colorbar": {
              "outlinewidth": 0,
              "ticks": ""
             }
            },
            "type": "scatterternary"
           }
          ],
          "surface": [
           {
            "colorbar": {
             "outlinewidth": 0,
             "ticks": ""
            },
            "colorscale": [
             [
              0,
              "#0d0887"
             ],
             [
              0.1111111111111111,
              "#46039f"
             ],
             [
              0.2222222222222222,
              "#7201a8"
             ],
             [
              0.3333333333333333,
              "#9c179e"
             ],
             [
              0.4444444444444444,
              "#bd3786"
             ],
             [
              0.5555555555555556,
              "#d8576b"
             ],
             [
              0.6666666666666666,
              "#ed7953"
             ],
             [
              0.7777777777777778,
              "#fb9f3a"
             ],
             [
              0.8888888888888888,
              "#fdca26"
             ],
             [
              1,
              "#f0f921"
             ]
            ],
            "type": "surface"
           }
          ],
          "table": [
           {
            "cells": {
             "fill": {
              "color": "#EBF0F8"
             },
             "line": {
              "color": "white"
             }
            },
            "header": {
             "fill": {
              "color": "#C8D4E3"
             },
             "line": {
              "color": "white"
             }
            },
            "type": "table"
           }
          ]
         },
         "layout": {
          "annotationdefaults": {
           "arrowcolor": "#2a3f5f",
           "arrowhead": 0,
           "arrowwidth": 1
          },
          "autotypenumbers": "strict",
          "coloraxis": {
           "colorbar": {
            "outlinewidth": 0,
            "ticks": ""
           }
          },
          "colorscale": {
           "diverging": [
            [
             0,
             "#8e0152"
            ],
            [
             0.1,
             "#c51b7d"
            ],
            [
             0.2,
             "#de77ae"
            ],
            [
             0.3,
             "#f1b6da"
            ],
            [
             0.4,
             "#fde0ef"
            ],
            [
             0.5,
             "#f7f7f7"
            ],
            [
             0.6,
             "#e6f5d0"
            ],
            [
             0.7,
             "#b8e186"
            ],
            [
             0.8,
             "#7fbc41"
            ],
            [
             0.9,
             "#4d9221"
            ],
            [
             1,
             "#276419"
            ]
           ],
           "sequential": [
            [
             0,
             "#0d0887"
            ],
            [
             0.1111111111111111,
             "#46039f"
            ],
            [
             0.2222222222222222,
             "#7201a8"
            ],
            [
             0.3333333333333333,
             "#9c179e"
            ],
            [
             0.4444444444444444,
             "#bd3786"
            ],
            [
             0.5555555555555556,
             "#d8576b"
            ],
            [
             0.6666666666666666,
             "#ed7953"
            ],
            [
             0.7777777777777778,
             "#fb9f3a"
            ],
            [
             0.8888888888888888,
             "#fdca26"
            ],
            [
             1,
             "#f0f921"
            ]
           ],
           "sequentialminus": [
            [
             0,
             "#0d0887"
            ],
            [
             0.1111111111111111,
             "#46039f"
            ],
            [
             0.2222222222222222,
             "#7201a8"
            ],
            [
             0.3333333333333333,
             "#9c179e"
            ],
            [
             0.4444444444444444,
             "#bd3786"
            ],
            [
             0.5555555555555556,
             "#d8576b"
            ],
            [
             0.6666666666666666,
             "#ed7953"
            ],
            [
             0.7777777777777778,
             "#fb9f3a"
            ],
            [
             0.8888888888888888,
             "#fdca26"
            ],
            [
             1,
             "#f0f921"
            ]
           ]
          },
          "colorway": [
           "#636efa",
           "#EF553B",
           "#00cc96",
           "#ab63fa",
           "#FFA15A",
           "#19d3f3",
           "#FF6692",
           "#B6E880",
           "#FF97FF",
           "#FECB52"
          ],
          "font": {
           "color": "#2a3f5f"
          },
          "geo": {
           "bgcolor": "white",
           "lakecolor": "white",
           "landcolor": "#E5ECF6",
           "showlakes": true,
           "showland": true,
           "subunitcolor": "white"
          },
          "hoverlabel": {
           "align": "left"
          },
          "hovermode": "closest",
          "mapbox": {
           "style": "light"
          },
          "paper_bgcolor": "white",
          "plot_bgcolor": "#E5ECF6",
          "polar": {
           "angularaxis": {
            "gridcolor": "white",
            "linecolor": "white",
            "ticks": ""
           },
           "bgcolor": "#E5ECF6",
           "radialaxis": {
            "gridcolor": "white",
            "linecolor": "white",
            "ticks": ""
           }
          },
          "scene": {
           "xaxis": {
            "backgroundcolor": "#E5ECF6",
            "gridcolor": "white",
            "gridwidth": 2,
            "linecolor": "white",
            "showbackground": true,
            "ticks": "",
            "zerolinecolor": "white"
           },
           "yaxis": {
            "backgroundcolor": "#E5ECF6",
            "gridcolor": "white",
            "gridwidth": 2,
            "linecolor": "white",
            "showbackground": true,
            "ticks": "",
            "zerolinecolor": "white"
           },
           "zaxis": {
            "backgroundcolor": "#E5ECF6",
            "gridcolor": "white",
            "gridwidth": 2,
            "linecolor": "white",
            "showbackground": true,
            "ticks": "",
            "zerolinecolor": "white"
           }
          },
          "shapedefaults": {
           "line": {
            "color": "#2a3f5f"
           }
          },
          "ternary": {
           "aaxis": {
            "gridcolor": "white",
            "linecolor": "white",
            "ticks": ""
           },
           "baxis": {
            "gridcolor": "white",
            "linecolor": "white",
            "ticks": ""
           },
           "bgcolor": "#E5ECF6",
           "caxis": {
            "gridcolor": "white",
            "linecolor": "white",
            "ticks": ""
           }
          },
          "title": {
           "x": 0.05
          },
          "xaxis": {
           "automargin": true,
           "gridcolor": "white",
           "linecolor": "white",
           "ticks": "",
           "title": {
            "standoff": 15
           },
           "zerolinecolor": "white",
           "zerolinewidth": 2
          },
          "yaxis": {
           "automargin": true,
           "gridcolor": "white",
           "linecolor": "white",
           "ticks": "",
           "title": {
            "standoff": 15
           },
           "zerolinecolor": "white",
           "zerolinewidth": 2
          }
         }
        },
        "title": {
         "text": "Loss Landscape"
        },
        "xaxis": {
         "title": {
          "text": "w"
         },
         "zeroline": true,
         "zerolinecolor": "rgba(205, 200, 193, 0.7)",
         "zerolinewidth": 2
        },
        "yaxis": {
         "title": {
          "text": "Loss"
         },
         "zeroline": true,
         "zerolinecolor": "rgba(205, 200, 193, 0.7)",
         "zerolinewidth": 2
        }
       }
      }
     },
     "metadata": {},
     "output_type": "display_data"
    }
   ],
   "source": [
    "first_set.landscape(cost_fn=nn.MSELoss(),coef_1=coef_tensor)"
   ]
  },
  {
   "cell_type": "code",
   "execution_count": null,
   "metadata": {},
   "outputs": [],
   "source": []
  }
 ],
 "metadata": {
  "kernelspec": {
   "display_name": "sparta",
   "language": "python",
   "name": "python3"
  },
  "language_info": {
   "codemirror_mode": {
    "name": "ipython",
    "version": 3
   },
   "file_extension": ".py",
   "mimetype": "text/x-python",
   "name": "python",
   "nbconvert_exporter": "python",
   "pygments_lexer": "ipython3",
   "version": "3.10.11"
  }
 },
 "nbformat": 4,
 "nbformat_minor": 2
}
